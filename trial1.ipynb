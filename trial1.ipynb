{
 "cells": [
  {
   "cell_type": "markdown",
   "id": "d55b958b-1c5b-4883-889a-ab3bd77d0f9d",
   "metadata": {},
   "source": [
    "# hello world"
   ]
  },
  {
   "cell_type": "code",
   "execution_count": 1,
   "id": "ac92b20b-c17c-4b06-bf08-ec5340eb67f1",
   "metadata": {},
   "outputs": [],
   "source": [
    "data class User(val name: String, val age:Int)"
   ]
  },
  {
   "cell_type": "code",
   "execution_count": 2,
   "id": "074775a4-fc93-49a1-99a9-f42dcc94cf13",
   "metadata": {},
   "outputs": [
    {
     "data": {
      "text/plain": [
       "User(name=hogeta, age=10)"
      ]
     },
     "execution_count": 2,
     "metadata": {},
     "output_type": "execute_result"
    }
   ],
   "source": [
    "val user1 = User(name=\"hogeta\", age=10)\n",
    "user1"
   ]
  },
  {
   "cell_type": "markdown",
   "id": "919e32db-823f-4596-ba4d-f61185e5a584",
   "metadata": {},
   "source": [
    "# Install artifacts"
   ]
  },
  {
   "cell_type": "code",
   "execution_count": 3,
   "id": "95837414-0296-47df-a8dd-69581b81ecbf",
   "metadata": {},
   "outputs": [],
   "source": [
    "@file:Repository(\"https://repo.maven.org/maven2\")"
   ]
  },
  {
   "cell_type": "code",
   "execution_count": 4,
   "id": "80c00fe8-0fbd-49d6-bcd9-216031d357a4",
   "metadata": {},
   "outputs": [],
   "source": [
    "@file:DependsOn(\"org.nd4j:nd4j-api:0.9.1\")\n",
    "@file:DependsOn(\"org.nd4j:nd4j-native:0.9.1\")\n",
    "@file:DependsOn(\"org.nd4j:nd4j-native-platform:0.9.1\")"
   ]
  },
  {
   "cell_type": "code",
   "execution_count": 5,
   "id": "8f377179-d136-464c-9511-d359484734a3",
   "metadata": {},
   "outputs": [],
   "source": [
    "import org.nd4j.linalg.factory.Nd4j"
   ]
  },
  {
   "cell_type": "code",
   "execution_count": 6,
   "id": "ab34b6f3-2379-4d94-8c87-a89f4ffd2993",
   "metadata": {},
   "outputs": [
    {
     "data": {
      "text/plain": [
       "[1.00,  2.00,  3.00]"
      ]
     },
     "execution_count": 6,
     "metadata": {},
     "output_type": "execute_result"
    }
   ],
   "source": [
    "val arr = Nd4j.create(doubleArrayOf(1.0, 2.0, 3.0))\n",
    "arr"
   ]
  },
  {
   "cell_type": "code",
   "execution_count": 7,
   "id": "5968e5d7-eb24-4ca8-afbc-28b0ff0bc001",
   "metadata": {},
   "outputs": [
    {
     "data": {
      "text/plain": [
       "Commands:\n",
       "    :help - display help\n",
       "    :classpath - show current classpath\n",
       "    :vars - get visible variables values\n",
       "\n",
       "Magics\n",
       "    %use - injects code for supported libraries: artifact resolution, default imports, initialization code, type renderers\n",
       "        Usage: %use klaxon(5.5), lets-plot\n",
       "    %trackClasspath - logs any changes of current classpath. Useful for debugging artifact resolution failures\n",
       "        Usage: %trackClasspath [on|off]\n",
       "    %trackExecution - logs pieces of code that are going to be executed. Useful for debugging of libraries support\n",
       "        Usage: %trackExecution [all|generated|off]\n",
       "    %useLatestDescriptors - use latest versions of library descriptors available. By default, bundled descriptors are used\n",
       "        Usage: %useLatestDescriptors [on|off]\n",
       "    %output - output capturing settings\n",
       "        Usage: %output --max-cell-size=1000 --no-stdout --max-time=100 --max-buffer=400\n",
       "    %logLevel - set logging level\n",
       "        Usage: %logLevel [off|error|warn|info|debug]\n",
       "\n",
       "Supported libraries:\n",
       "    deeplearning4j-cuda (https://github.com/eclipse/deeplearning4j) - Deep learning library for the JVM (CUDA support)\n",
       "    spark (https://github.com/JetBrains/kotlin-spark-api) - Kotlin API for Apache Spark: unified analytics engine for large-scale data processing\n",
       "    fuel (https://github.com/kittinunf/fuel) - HTTP networking library\n",
       "    kalasim (https://www.kalasim.org) - Discrete event simulator\n",
       "    jdsp (https://github.com/psambit9791/jDSP) - Java library for signal processing\n",
       "    kotlin-statistics (https://github.com/thomasnield/kotlin-statistics) - Idiomatic statistical operators for Kotlin\n",
       "    rdkit (https://www.rdkit.org/) - Open-Source Cheminformatics Software\n",
       "    mysql (https://github.com/mysql/mysql-connector-j) - MySql JDBC Connector\n",
       "    kaliningraph (https://github.com/breandan/kaliningraph) - Graph library with a DSL for constructing graphs and visualizing the behavior of graph algorithms\n",
       "    combinatoricskt (https://github.com/shiguruikai/combinatoricskt) - A combinatorics library for Kotlin\n",
       "    coroutines (https://github.com/Kotlin/kotlinx.coroutines) - Asynchronous programming and reactive streams support\n",
       "    ggdsl-dataframe (https://github.com/AndreiKingsley/lib-ggdsl) - Kotlin Dataframe integration for ggdsl\n",
       "    multik (https://github.com/Kotlin/multik) - Multidimensional array library for Kotlin\n",
       "    kotlin-dl (https://github.com/Kotlin/kotlindl) - KotlinDL library which provides Keras-like API for deep learning\n",
       "    ggdsl-lets-plot (https://github.com/AndreiKingsley/lib-ggdsl) - Kotlin plotting DSL for Lets-Plot\n",
       "    klaxon (https://github.com/cbeust/klaxon) - JSON parser for Kotlin\n",
       "    krangl (https://github.com/holgerbrandl/krangl) - Kotlin DSL for data wrangling\n",
       "    ggdsl-echarts (https://github.com/AndreiKingsley/lib-ggdsl) - Kotlin plotting DSL for Apache ECharts\n",
       "    lets-plot (https://github.com/JetBrains/lets-plot-kotlin) - ggplot-like interactive visualization for Kotlin\n",
       "    ggdsl (https://github.com/AndreiKingsley/lib-ggdsl) - Lets-plot and Dataframe ggdsl\n",
       "    biokotlin (https://bitbucket.org/bucklerlab/biokotlin) - BioKotlin aims to be a high-performance bioinformatics library that brings the power and speed of compiled programming languages to scripting and big data environments.\n",
       "    londogard-nlp-toolkit (https://github.com/londogard/londogard-nlp-toolkit) - A Natural Language Processing (NLP) toolkit for Kotlin on the JVM\n",
       "    plotly (https://github.com/mipt-npm/plotly.kt) - [beta] Plotly.kt jupyter integration for static plots.\n",
       "    dataframe (https://github.com/Kotlin/dataframe) - Kotlin framework for structured data processing\n",
       "    lib-ext (https://github.com/Kotlin/kotlin-jupyter) - Extended functionality for Jupyter kernel\n",
       "    deeplearning4j (https://github.com/eclipse/deeplearning4j) - Deep learning library for the JVM\n",
       "    kmath (https://github.com/mipt-npm/kmath) - Experimental Kotlin algebra-based mathematical library\n",
       "    reflection (https://kotlinlang.org/docs/reflection.html) - Imports for Kotlin Reflection\n",
       "    spark-streaming (https://github.com/JetBrains/kotlin-spark-api) - Kotlin API for Apache Spark Streaming: scalable, high-throughput, fault-tolerant stream processing of live data streams\n",
       "    gral (https://github.com/eseifert/gral) - Java library for displaying plots\n",
       "    lets-plot-dataframe (https://github.com/JetBrains/lets-plot-kotlin) - A bridge between Lets-Plot and dataframe libraries\n",
       "    kravis (https://github.com/holgerbrandl/kravis) - Kotlin grammar for data visualization\n",
       "    default - Default imports: dataframe and Lets-Plot libraries\n",
       "    roboquant (https://roboquant.org) - Algorithmic trading platform for Kotlin\n",
       "    plotly-server (https://github.com/mipt-npm/plotly.kt) - [beta] Plotly.kt jupyter integration for dynamic plots.\n",
       "    kraphviz (https://github.com/nidi3/graphviz-java) - Graphviz wrapper for JVM\n",
       "    serialization (https://github.com/Kotlin/kotlinx.serialization) - Kotlin multi-format reflection-less serialization\n",
       "    smile (https://github.com/haifengl/smile) - Statistical Machine Intelligence and Learning Engine\n",
       "    khttp (https://github.com/jkcclemens/khttp) - HTTP networking library\n",
       "    exposed (https://github.com/JetBrains/Exposed) - Kotlin SQL framework\n",
       "    lets-plot-gt (https://github.com/JetBrains/lets-plot-kotlin) - Lets-Plot visualisation for GeoTools toolkit"
      ]
     },
     "execution_count": 7,
     "metadata": {},
     "output_type": "execute_result"
    }
   ],
   "source": [
    ":help"
   ]
  },
  {
   "cell_type": "markdown",
   "id": "4f6ecf87-49b5-4ed8-97a2-6d19a1271f1f",
   "metadata": {},
   "source": [
    "# Titanic"
   ]
  },
  {
   "cell_type": "code",
   "execution_count": 8,
   "id": "4a9b2a44-3eed-4eac-bc25-e2b5db15aa70",
   "metadata": {},
   "outputs": [
    {
     "data": {
      "text/html": [
       "            <div id=\"kotlin_out_0\"/>\n",
       "            <script type=\"text/javascript\">\n",
       "                            if(!window.kotlinQueues) {\n",
       "                window.kotlinQueues = {};\n",
       "            }\n",
       "            if(!window.kotlinQueues[\"DataFrame\"]) {\n",
       "                var resQueue = [];\n",
       "                window.kotlinQueues[\"DataFrame\"] = resQueue;\n",
       "                window[\"call_DataFrame\"] = function(f) {\n",
       "                    resQueue.push(f);\n",
       "                }\n",
       "            }\n",
       "            (function (){\n",
       "                var modifiers = [(function(script) {\n",
       "    script.src = \"https://cdn.jsdelivr.net/gh/Kotlin/dataframe@d6467c1389bc031958acd5310fce39167b5cc581/src/main/resources/init.js\"\n",
       "    script.type = \"text/javascript\";\n",
       "})];\n",
       "                var e = document.getElementById(\"kotlin_out_0\");\n",
       "                modifiers.forEach(function (gen) {\n",
       "                    var script = document.createElement(\"script\");\n",
       "                    gen(script)\n",
       "                    script.addEventListener(\"load\", function() {\n",
       "                        window[\"call_DataFrame\"] = function(f) {f();};\n",
       "                        window.kotlinQueues[\"DataFrame\"].forEach(function(f) {f();});\n",
       "                        window.kotlinQueues[\"DataFrame\"] = [];\n",
       "                    }, false);\n",
       "                    script.addEventListener(\"error\", function() {\n",
       "                        window[\"call_DataFrame\"] = function(f) {};\n",
       "                        window.kotlinQueues[\"DataFrame\"] = [];\n",
       "                        var div = document.createElement(\"div\");\n",
       "                        div.style.color = 'darkred';\n",
       "                        div.textContent = 'Error loading resource DataFrame';\n",
       "                        document.getElementById(\"kotlin_out_0\").appendChild(div);\n",
       "                    }, false);\n",
       "                    \n",
       "                    e.appendChild(script);\n",
       "                });\n",
       "            })();\n",
       "            </script>"
      ]
     },
     "metadata": {},
     "output_type": "display_data"
    },
    {
     "data": {
      "text/html": [
       "                <style>\n",
       "                :root {\n",
       "    --background: #fff;\n",
       "    --background-odd: #f5f5f5;\n",
       "    --background-hover: #d9edfd;\n",
       "    --header-text-color: #474747;\n",
       "    --text-color: #848484;\n",
       "    --text-color-dark: #000;\n",
       "    --text-color-medium: #737373;\n",
       "    --text-color-pale: #b3b3b3;\n",
       "    --inner-border-color: #aaa;\n",
       "    --bold-border-color: #000;\n",
       "    --link-color: #296eaa;\n",
       "    --link-color-pale: #296eaa;\n",
       "    --link-hover: #1a466c;\n",
       "}\n",
       "\n",
       ":root[theme=\"dark\"], :root [data-jp-theme-light=\"false\"]{\n",
       "    --background: #303030;\n",
       "    --background-odd: #3c3c3c;\n",
       "    --background-hover: #464646;\n",
       "    --header-text-color: #dddddd;\n",
       "    --text-color: #b3b3b3;\n",
       "    --text-color-dark: #dddddd;\n",
       "    --text-color-medium: #b2b2b2;\n",
       "    --text-color-pale: #737373;\n",
       "    --inner-border-color: #707070;\n",
       "    --bold-border-color: #777777;\n",
       "    --link-color: #008dc0;\n",
       "    --link-color-pale: #97e1fb;\n",
       "    --link-hover: #00688e;\n",
       "}\n",
       "\n",
       "table.dataframe {\n",
       "    font-family: \"Helvetica Neue\", Helvetica, Arial, sans-serif;\n",
       "    font-size: 12px;\n",
       "    background-color: var(--background);\n",
       "    color: var(--text-color-dark);\n",
       "    border: none;\n",
       "    border-collapse: collapse;\n",
       "}\n",
       "\n",
       "table.dataframe th, td {\n",
       "    padding: 6px;\n",
       "    border: 1px solid transparent;\n",
       "    text-align: left;\n",
       "}\n",
       "\n",
       "table.dataframe th {\n",
       "    background-color: var(--background);\n",
       "    color: var(--header-text-color);\n",
       "}\n",
       "\n",
       "table.dataframe td {\n",
       "    vertical-align: top;\n",
       "}\n",
       "\n",
       "table.dataframe th.bottomBorder {\n",
       "    border-bottom-color: var(--bold-border-color);\n",
       "}\n",
       "\n",
       "table.dataframe tbody > tr:nth-child(odd) {\n",
       "    background: var(--background-odd);\n",
       "}\n",
       "\n",
       "table.dataframe tbody > tr:nth-child(even) {\n",
       "    background: var(--background);\n",
       "}\n",
       "\n",
       "table.dataframe tbody > tr:hover {\n",
       "    background: var(--background-hover);\n",
       "}\n",
       "\n",
       "table.dataframe a {\n",
       "    cursor: pointer;\n",
       "    color: var(--link-color);\n",
       "    text-decoration: none;\n",
       "}\n",
       "\n",
       "table.dataframe tr:hover > td a {\n",
       "    color: var(--link-color-pale);\n",
       "}\n",
       "\n",
       "table.dataframe a:hover {\n",
       "    color: var(--link-hover);\n",
       "    text-decoration: underline;\n",
       "}\n",
       "\n",
       "table.dataframe img {\n",
       "    max-width: fit-content;\n",
       "}\n",
       "\n",
       "table.dataframe th.complex {\n",
       "    background-color: var(--background);\n",
       "    border: 1px solid var(--background);\n",
       "}\n",
       "\n",
       "table.dataframe .leftBorder {\n",
       "    border-left-color: var(--inner-border-color);\n",
       "}\n",
       "\n",
       "table.dataframe .rightBorder {\n",
       "    border-right-color: var(--inner-border-color);\n",
       "}\n",
       "\n",
       "table.dataframe .rightAlign {\n",
       "    text-align: right;\n",
       "}\n",
       "\n",
       "table.dataframe .expanderSvg {\n",
       "    width: 8px;\n",
       "    height: 8px;\n",
       "    margin-right: 3px;\n",
       "}\n",
       "\n",
       "table.dataframe .expander {\n",
       "    display: flex;\n",
       "    align-items: center;\n",
       "}\n",
       "\n",
       "/* formatting */\n",
       "\n",
       "table.dataframe .null {\n",
       "    color: var(--text-color-pale);\n",
       "}\n",
       "\n",
       "table.dataframe .structural {\n",
       "    color: var(--text-color-medium);\n",
       "    font-weight: bold;\n",
       "}\n",
       "\n",
       "table.dataframe .dataFrameCaption {\n",
       "    font-weight: bold;\n",
       "}\n",
       "\n",
       "table.dataframe .numbers {\n",
       "    color: var(--text-color-dark);\n",
       "}\n",
       "\n",
       "table.dataframe td:hover .formatted .structural, .null {\n",
       "    color: var(--text-color-dark);\n",
       "}\n",
       "\n",
       "table.dataframe tr:hover .formatted .structural, .null {\n",
       "    color: var(--text-color-dark);\n",
       "}\n",
       "\n",
       "\n",
       "                </style>"
      ]
     },
     "metadata": {},
     "output_type": "display_data"
    }
   ],
   "source": [
    "%use dataframe"
   ]
  },
  {
   "cell_type": "code",
   "execution_count": 9,
   "id": "35a52ea6-02d1-4056-90c5-4ad0bcd91a49",
   "metadata": {},
   "outputs": [
    {
     "data": {
      "text/html": [
       "        <html>\n",
       "        <head>\n",
       "            <style type=\"text/css\">\n",
       "                \n",
       "\n",
       "            </style>\n",
       "        </head>\n",
       "        <body>\n",
       "            <table class=\"dataframe\" id=\"df_-50331648\"></table>\n",
       "\n",
       "<p>DataFrame: rowsCount = 5, columnsCount = 12</p>\n",
       "        </body>\n",
       "        <script>\n",
       "            /*<!--*/\n",
       "call_DataFrame(function() { DataFrame.addTable({ cols: [{ name: \"<span title=\\\"PassengerId: Int\\\">PassengerId</span>\", children: [], rightAlign: true, values: [\"<span class=\\\"formatted\\\" title=\\\"\\\"><span class=\\\"numbers\\\">1</span></span>\",\"<span class=\\\"formatted\\\" title=\\\"\\\"><span class=\\\"numbers\\\">2</span></span>\",\"<span class=\\\"formatted\\\" title=\\\"\\\"><span class=\\\"numbers\\\">3</span></span>\",\"<span class=\\\"formatted\\\" title=\\\"\\\"><span class=\\\"numbers\\\">4</span></span>\",\"<span class=\\\"formatted\\\" title=\\\"\\\"><span class=\\\"numbers\\\">5</span></span>\"] }, \n",
       "{ name: \"<span title=\\\"Survived: Int\\\">Survived</span>\", children: [], rightAlign: true, values: [\"<span class=\\\"formatted\\\" title=\\\"\\\"><span class=\\\"numbers\\\">0</span></span>\",\"<span class=\\\"formatted\\\" title=\\\"\\\"><span class=\\\"numbers\\\">1</span></span>\",\"<span class=\\\"formatted\\\" title=\\\"\\\"><span class=\\\"numbers\\\">1</span></span>\",\"<span class=\\\"formatted\\\" title=\\\"\\\"><span class=\\\"numbers\\\">1</span></span>\",\"<span class=\\\"formatted\\\" title=\\\"\\\"><span class=\\\"numbers\\\">0</span></span>\"] }, \n",
       "{ name: \"<span title=\\\"Pclass: Int\\\">Pclass</span>\", children: [], rightAlign: true, values: [\"<span class=\\\"formatted\\\" title=\\\"\\\"><span class=\\\"numbers\\\">3</span></span>\",\"<span class=\\\"formatted\\\" title=\\\"\\\"><span class=\\\"numbers\\\">1</span></span>\",\"<span class=\\\"formatted\\\" title=\\\"\\\"><span class=\\\"numbers\\\">3</span></span>\",\"<span class=\\\"formatted\\\" title=\\\"\\\"><span class=\\\"numbers\\\">1</span></span>\",\"<span class=\\\"formatted\\\" title=\\\"\\\"><span class=\\\"numbers\\\">3</span></span>\"] }, \n",
       "{ name: \"<span title=\\\"Name: String\\\">Name</span>\", children: [], rightAlign: false, values: [\"Braund, Mr. Owen Harris\",\"<span class=\\\"formatted\\\" title=\\\"Cumings, Mrs. John Bradley (Florence Briggs Thayer)\\\">Cumings, Mrs. John Bradley (Florence <span class=\\\"structural\\\">...</span></span>\",\"Heikkinen, Miss. Laina\",\"<span class=\\\"formatted\\\" title=\\\"Futrelle, Mrs. Jacques Heath (Lily May Peel)\\\">Futrelle, Mrs. Jacques Heath (Lily Ma<span class=\\\"structural\\\">...</span></span>\",\"Allen, Mr. William Henry\"] }, \n",
       "{ name: \"<span title=\\\"Sex: String\\\">Sex</span>\", children: [], rightAlign: false, values: [\"male\",\"female\",\"female\",\"female\",\"male\"] }, \n",
       "{ name: \"<span title=\\\"Age: Double\\\">Age</span>\", children: [], rightAlign: true, values: [\"<span class=\\\"formatted\\\" title=\\\"\\\"><span class=\\\"numbers\\\">22.0</span></span>\",\"<span class=\\\"formatted\\\" title=\\\"\\\"><span class=\\\"numbers\\\">38.0</span></span>\",\"<span class=\\\"formatted\\\" title=\\\"\\\"><span class=\\\"numbers\\\">26.0</span></span>\",\"<span class=\\\"formatted\\\" title=\\\"\\\"><span class=\\\"numbers\\\">35.0</span></span>\",\"<span class=\\\"formatted\\\" title=\\\"\\\"><span class=\\\"numbers\\\">35.0</span></span>\"] }, \n",
       "{ name: \"<span title=\\\"SibSp: Int\\\">SibSp</span>\", children: [], rightAlign: true, values: [\"<span class=\\\"formatted\\\" title=\\\"\\\"><span class=\\\"numbers\\\">1</span></span>\",\"<span class=\\\"formatted\\\" title=\\\"\\\"><span class=\\\"numbers\\\">1</span></span>\",\"<span class=\\\"formatted\\\" title=\\\"\\\"><span class=\\\"numbers\\\">0</span></span>\",\"<span class=\\\"formatted\\\" title=\\\"\\\"><span class=\\\"numbers\\\">1</span></span>\",\"<span class=\\\"formatted\\\" title=\\\"\\\"><span class=\\\"numbers\\\">0</span></span>\"] }, \n",
       "{ name: \"<span title=\\\"Parch: Int\\\">Parch</span>\", children: [], rightAlign: true, values: [\"<span class=\\\"formatted\\\" title=\\\"\\\"><span class=\\\"numbers\\\">0</span></span>\",\"<span class=\\\"formatted\\\" title=\\\"\\\"><span class=\\\"numbers\\\">0</span></span>\",\"<span class=\\\"formatted\\\" title=\\\"\\\"><span class=\\\"numbers\\\">0</span></span>\",\"<span class=\\\"formatted\\\" title=\\\"\\\"><span class=\\\"numbers\\\">0</span></span>\",\"<span class=\\\"formatted\\\" title=\\\"\\\"><span class=\\\"numbers\\\">0</span></span>\"] }, \n",
       "{ name: \"<span title=\\\"Ticket: String\\\">Ticket</span>\", children: [], rightAlign: false, values: [\"A/5 21171\",\"PC 17599\",\"STON/O2. 3101282\",\"113803\",\"373450\"] }, \n",
       "{ name: \"<span title=\\\"Fare: Double\\\">Fare</span>\", children: [], rightAlign: true, values: [\"<span class=\\\"formatted\\\" title=\\\"\\\"><span class=\\\"numbers\\\">7.2500</span></span>\",\"<span class=\\\"formatted\\\" title=\\\"\\\"><span class=\\\"numbers\\\">71.2833</span></span>\",\"<span class=\\\"formatted\\\" title=\\\"\\\"><span class=\\\"numbers\\\">7.9250</span></span>\",\"<span class=\\\"formatted\\\" title=\\\"\\\"><span class=\\\"numbers\\\">53.1000</span></span>\",\"<span class=\\\"formatted\\\" title=\\\"\\\"><span class=\\\"numbers\\\">8.0500</span></span>\"] }, \n",
       "{ name: \"<span title=\\\"Cabin: String?\\\">Cabin</span>\", children: [], rightAlign: false, values: [\"<span class=\\\"formatted\\\" title=\\\"\\\"><span class=\\\"null\\\">null</span></span>\",\"C85\",\"<span class=\\\"formatted\\\" title=\\\"\\\"><span class=\\\"null\\\">null</span></span>\",\"C123\",\"<span class=\\\"formatted\\\" title=\\\"\\\"><span class=\\\"null\\\">null</span></span>\"] }, \n",
       "{ name: \"<span title=\\\"Embarked: String\\\">Embarked</span>\", children: [], rightAlign: false, values: [\"S\",\"C\",\"S\",\"S\",\"S\"] }, \n",
       "], id: -50331648, rootId: -50331648, totalRows: 5 } ) });\n",
       "/*-->*/\n",
       "\n",
       "call_DataFrame(function() { DataFrame.renderTable(-50331648) });\n",
       "\n",
       "\n",
       "        </script>\n",
       "        </html>"
      ]
     },
     "execution_count": 9,
     "metadata": {},
     "output_type": "execute_result"
    }
   ],
   "source": [
    "val df = DataFrame.read(\"./data/train.csv\")\n",
    "df.head()"
   ]
  },
  {
   "cell_type": "code",
   "execution_count": 10,
   "id": "01ee8782-b86d-4bf4-beee-fac189d92891",
   "metadata": {},
   "outputs": [],
   "source": [
    "val trainDf = DataFrame.read(\"./data/train.csv\")\n",
    "val testDf = DataFrame.read(\"./data/test.csv\")\n",
    "val dataDf = trainDf.concat(testDf)"
   ]
  },
  {
   "cell_type": "code",
   "execution_count": 11,
   "id": "0430b402-d776-43d2-b1e1-28ee08a46bb6",
   "metadata": {},
   "outputs": [],
   "source": [
    "trainDf.describe()\n",
    "val trainSize = trainDf.rowsCount()"
   ]
  },
  {
   "cell_type": "code",
   "execution_count": 12,
   "id": "dd5c2302-514f-4024-b968-1eab424804da",
   "metadata": {},
   "outputs": [
    {
     "data": {
      "text/plain": [
       "891"
      ]
     },
     "execution_count": 12,
     "metadata": {},
     "output_type": "execute_result"
    }
   ],
   "source": [
    "trainSize"
   ]
  },
  {
   "cell_type": "code",
   "execution_count": 13,
   "id": "e4ed7053-dcd3-4b34-811c-d692c17dbb6f",
   "metadata": {},
   "outputs": [
    {
     "data": {
      "text/html": [
       "        <html>\n",
       "        <head>\n",
       "            <style type=\"text/css\">\n",
       "                \n",
       "\n",
       "            </style>\n",
       "        </head>\n",
       "        <body>\n",
       "            <table class=\"dataframe\" id=\"df_-50331647\"></table>\n",
       "\n",
       "<p>DataFrame: rowsCount = 11, columnsCount = 12</p>\n",
       "        </body>\n",
       "        <script>\n",
       "            /*<!--*/\n",
       "call_DataFrame(function() { DataFrame.addTable({ cols: [{ name: \"<span title=\\\"name: String\\\">name</span>\", children: [], rightAlign: false, values: [\"PassengerId\",\"Pclass\",\"Name\",\"Sex\",\"Age\",\"SibSp\",\"Parch\",\"Ticket\",\"Fare\",\"Cabin\",\"Embarked\"] }, \n",
       "{ name: \"<span title=\\\"type: Any\\\">type</span>\", children: [], rightAlign: false, values: [\"Int\",\"Int\",\"String\",\"String\",\"Double\",\"Int\",\"Int\",\"String\",\"Double\",\"String\",\"String\"] }, \n",
       "{ name: \"<span title=\\\"count: Int\\\">count</span>\", children: [], rightAlign: true, values: [\"<span class=\\\"formatted\\\" title=\\\"\\\"><span class=\\\"numbers\\\">418</span></span>\",\"<span class=\\\"formatted\\\" title=\\\"\\\"><span class=\\\"numbers\\\">418</span></span>\",\"<span class=\\\"formatted\\\" title=\\\"\\\"><span class=\\\"numbers\\\">418</span></span>\",\"<span class=\\\"formatted\\\" title=\\\"\\\"><span class=\\\"numbers\\\">418</span></span>\",\"<span class=\\\"formatted\\\" title=\\\"\\\"><span class=\\\"numbers\\\">418</span></span>\",\"<span class=\\\"formatted\\\" title=\\\"\\\"><span class=\\\"numbers\\\">418</span></span>\",\"<span class=\\\"formatted\\\" title=\\\"\\\"><span class=\\\"numbers\\\">418</span></span>\",\"<span class=\\\"formatted\\\" title=\\\"\\\"><span class=\\\"numbers\\\">418</span></span>\",\"<span class=\\\"formatted\\\" title=\\\"\\\"><span class=\\\"numbers\\\">418</span></span>\",\"<span class=\\\"formatted\\\" title=\\\"\\\"><span class=\\\"numbers\\\">418</span></span>\",\"<span class=\\\"formatted\\\" title=\\\"\\\"><span class=\\\"numbers\\\">418</span></span>\"] }, \n",
       "{ name: \"<span title=\\\"unique: Int\\\">unique</span>\", children: [], rightAlign: true, values: [\"<span class=\\\"formatted\\\" title=\\\"\\\"><span class=\\\"numbers\\\">418</span></span>\",\"<span class=\\\"formatted\\\" title=\\\"\\\"><span class=\\\"numbers\\\">3</span></span>\",\"<span class=\\\"formatted\\\" title=\\\"\\\"><span class=\\\"numbers\\\">418</span></span>\",\"<span class=\\\"formatted\\\" title=\\\"\\\"><span class=\\\"numbers\\\">2</span></span>\",\"<span class=\\\"formatted\\\" title=\\\"\\\"><span class=\\\"numbers\\\">80</span></span>\",\"<span class=\\\"formatted\\\" title=\\\"\\\"><span class=\\\"numbers\\\">7</span></span>\",\"<span class=\\\"formatted\\\" title=\\\"\\\"><span class=\\\"numbers\\\">8</span></span>\",\"<span class=\\\"formatted\\\" title=\\\"\\\"><span class=\\\"numbers\\\">363</span></span>\",\"<span class=\\\"formatted\\\" title=\\\"\\\"><span class=\\\"numbers\\\">170</span></span>\",\"<span class=\\\"formatted\\\" title=\\\"\\\"><span class=\\\"numbers\\\">77</span></span>\",\"<span class=\\\"formatted\\\" title=\\\"\\\"><span class=\\\"numbers\\\">3</span></span>\"] }, \n",
       "{ name: \"<span title=\\\"nulls: Int\\\">nulls</span>\", children: [], rightAlign: true, values: [\"<span class=\\\"formatted\\\" title=\\\"\\\"><span class=\\\"numbers\\\">0</span></span>\",\"<span class=\\\"formatted\\\" title=\\\"\\\"><span class=\\\"numbers\\\">0</span></span>\",\"<span class=\\\"formatted\\\" title=\\\"\\\"><span class=\\\"numbers\\\">0</span></span>\",\"<span class=\\\"formatted\\\" title=\\\"\\\"><span class=\\\"numbers\\\">0</span></span>\",\"<span class=\\\"formatted\\\" title=\\\"\\\"><span class=\\\"numbers\\\">86</span></span>\",\"<span class=\\\"formatted\\\" title=\\\"\\\"><span class=\\\"numbers\\\">0</span></span>\",\"<span class=\\\"formatted\\\" title=\\\"\\\"><span class=\\\"numbers\\\">0</span></span>\",\"<span class=\\\"formatted\\\" title=\\\"\\\"><span class=\\\"numbers\\\">0</span></span>\",\"<span class=\\\"formatted\\\" title=\\\"\\\"><span class=\\\"numbers\\\">1</span></span>\",\"<span class=\\\"formatted\\\" title=\\\"\\\"><span class=\\\"numbers\\\">327</span></span>\",\"<span class=\\\"formatted\\\" title=\\\"\\\"><span class=\\\"numbers\\\">0</span></span>\"] }, \n",
       "{ name: \"<span title=\\\"top: java.io.Serializable\\\">top</span>\", children: [], rightAlign: false, values: [\"<span class=\\\"formatted\\\" title=\\\"\\\"><span class=\\\"numbers\\\">892</span></span>\",\"<span class=\\\"formatted\\\" title=\\\"\\\"><span class=\\\"numbers\\\">3</span></span>\",\"Kelly, Mr. James\",\"male\",\"<span class=\\\"formatted\\\" title=\\\"\\\"><span class=\\\"numbers\\\">21.0</span></span>\",\"<span class=\\\"formatted\\\" title=\\\"\\\"><span class=\\\"numbers\\\">0</span></span>\",\"<span class=\\\"formatted\\\" title=\\\"\\\"><span class=\\\"numbers\\\">0</span></span>\",\"PC 17608\",\"<span class=\\\"formatted\\\" title=\\\"\\\"><span class=\\\"numbers\\\">7.8</span></span>\",\"B57 B59 B63 B66\",\"S\"] }, \n",
       "{ name: \"<span title=\\\"freq: Int\\\">freq</span>\", children: [], rightAlign: true, values: [\"<span class=\\\"formatted\\\" title=\\\"\\\"><span class=\\\"numbers\\\">1</span></span>\",\"<span class=\\\"formatted\\\" title=\\\"\\\"><span class=\\\"numbers\\\">218</span></span>\",\"<span class=\\\"formatted\\\" title=\\\"\\\"><span class=\\\"numbers\\\">1</span></span>\",\"<span class=\\\"formatted\\\" title=\\\"\\\"><span class=\\\"numbers\\\">266</span></span>\",\"<span class=\\\"formatted\\\" title=\\\"\\\"><span class=\\\"numbers\\\">17</span></span>\",\"<span class=\\\"formatted\\\" title=\\\"\\\"><span class=\\\"numbers\\\">283</span></span>\",\"<span class=\\\"formatted\\\" title=\\\"\\\"><span class=\\\"numbers\\\">324</span></span>\",\"<span class=\\\"formatted\\\" title=\\\"\\\"><span class=\\\"numbers\\\">5</span></span>\",\"<span class=\\\"formatted\\\" title=\\\"\\\"><span class=\\\"numbers\\\">21</span></span>\",\"<span class=\\\"formatted\\\" title=\\\"\\\"><span class=\\\"numbers\\\">3</span></span>\",\"<span class=\\\"formatted\\\" title=\\\"\\\"><span class=\\\"numbers\\\">270</span></span>\"] }, \n",
       "{ name: \"<span title=\\\"mean: Double?\\\">mean</span>\", children: [], rightAlign: true, values: [\"<span class=\\\"formatted\\\" title=\\\"\\\"><span class=\\\"numbers\\\">1100.500000</span></span>\",\"<span class=\\\"formatted\\\" title=\\\"\\\"><span class=\\\"numbers\\\">2.265550</span></span>\",\"<span class=\\\"formatted\\\" title=\\\"\\\"><span class=\\\"null\\\">null</span></span>\",\"<span class=\\\"formatted\\\" title=\\\"\\\"><span class=\\\"null\\\">null</span></span>\",\"<span class=\\\"formatted\\\" title=\\\"\\\"><span class=\\\"numbers\\\">30.272590</span></span>\",\"<span class=\\\"formatted\\\" title=\\\"\\\"><span class=\\\"numbers\\\">0.447368</span></span>\",\"<span class=\\\"formatted\\\" title=\\\"\\\"><span class=\\\"numbers\\\">0.392344</span></span>\",\"<span class=\\\"formatted\\\" title=\\\"\\\"><span class=\\\"null\\\">null</span></span>\",\"<span class=\\\"formatted\\\" title=\\\"\\\"><span class=\\\"numbers\\\">35.627188</span></span>\",\"<span class=\\\"formatted\\\" title=\\\"\\\"><span class=\\\"null\\\">null</span></span>\",\"<span class=\\\"formatted\\\" title=\\\"\\\"><span class=\\\"null\\\">null</span></span>\"] }, \n",
       "{ name: \"<span title=\\\"std: Double?\\\">std</span>\", children: [], rightAlign: true, values: [\"<span class=\\\"formatted\\\" title=\\\"\\\"><span class=\\\"numbers\\\">120.810458</span></span>\",\"<span class=\\\"formatted\\\" title=\\\"\\\"><span class=\\\"numbers\\\">0.841838</span></span>\",\"<span class=\\\"formatted\\\" title=\\\"\\\"><span class=\\\"null\\\">null</span></span>\",\"<span class=\\\"formatted\\\" title=\\\"\\\"><span class=\\\"null\\\">null</span></span>\",\"<span class=\\\"formatted\\\" title=\\\"\\\"><span class=\\\"numbers\\\">14.181209</span></span>\",\"<span class=\\\"formatted\\\" title=\\\"\\\"><span class=\\\"numbers\\\">0.896760</span></span>\",\"<span class=\\\"formatted\\\" title=\\\"\\\"><span class=\\\"numbers\\\">0.981429</span></span>\",\"<span class=\\\"formatted\\\" title=\\\"\\\"><span class=\\\"null\\\">null</span></span>\",\"<span class=\\\"formatted\\\" title=\\\"\\\"><span class=\\\"numbers\\\">55.907576</span></span>\",\"<span class=\\\"formatted\\\" title=\\\"\\\"><span class=\\\"null\\\">null</span></span>\",\"<span class=\\\"formatted\\\" title=\\\"\\\"><span class=\\\"null\\\">null</span></span>\"] }, \n",
       "{ name: \"<span title=\\\"min: java.io.Serializable\\\">min</span>\", children: [], rightAlign: false, values: [\"<span class=\\\"formatted\\\" title=\\\"\\\"><span class=\\\"numbers\\\">892</span></span>\",\"<span class=\\\"formatted\\\" title=\\\"\\\"><span class=\\\"numbers\\\">1</span></span>\",\"Abbott, Master. Eugene Joseph\",\"female\",\"<span class=\\\"formatted\\\" title=\\\"\\\"><span class=\\\"numbers\\\">0.2</span></span>\",\"<span class=\\\"formatted\\\" title=\\\"\\\"><span class=\\\"numbers\\\">0</span></span>\",\"<span class=\\\"formatted\\\" title=\\\"\\\"><span class=\\\"numbers\\\">0</span></span>\",\"110469\",\"<span class=\\\"formatted\\\" title=\\\"\\\"><span class=\\\"numbers\\\">0.0</span></span>\",\"A11\",\"C\"] }, \n",
       "{ name: \"<span title=\\\"median: java.io.Serializable\\\">median</span>\", children: [], rightAlign: false, values: [\"<span class=\\\"formatted\\\" title=\\\"\\\"><span class=\\\"numbers\\\">1100</span></span>\",\"<span class=\\\"formatted\\\" title=\\\"\\\"><span class=\\\"numbers\\\">3</span></span>\",\"Kenyon, Mr. Frederick R\",\"male\",\"<span class=\\\"formatted\\\" title=\\\"\\\"><span class=\\\"numbers\\\">27.0</span></span>\",\"<span class=\\\"formatted\\\" title=\\\"\\\"><span class=\\\"numbers\\\">0</span></span>\",\"<span class=\\\"formatted\\\" title=\\\"\\\"><span class=\\\"numbers\\\">0</span></span>\",\"347077\",\"<span class=\\\"formatted\\\" title=\\\"\\\"><span class=\\\"numbers\\\">14.5</span></span>\",\"C55 C57\",\"S\"] }, \n",
       "{ name: \"<span title=\\\"max: java.io.Serializable\\\">max</span>\", children: [], rightAlign: false, values: [\"<span class=\\\"formatted\\\" title=\\\"\\\"><span class=\\\"numbers\\\">1309</span></span>\",\"<span class=\\\"formatted\\\" title=\\\"\\\"><span class=\\\"numbers\\\">3</span></span>\",\"van Billiard, Master. Walter John\",\"male\",\"<span class=\\\"formatted\\\" title=\\\"\\\"><span class=\\\"numbers\\\">76.0</span></span>\",\"<span class=\\\"formatted\\\" title=\\\"\\\"><span class=\\\"numbers\\\">8</span></span>\",\"<span class=\\\"formatted\\\" title=\\\"\\\"><span class=\\\"numbers\\\">9</span></span>\",\"W.E.P. 5734\",\"<span class=\\\"formatted\\\" title=\\\"\\\"><span class=\\\"numbers\\\">512.3</span></span>\",\"G6\",\"S\"] }, \n",
       "], id: -50331647, rootId: -50331647, totalRows: 11 } ) });\n",
       "/*-->*/\n",
       "\n",
       "call_DataFrame(function() { DataFrame.renderTable(-50331647) });\n",
       "\n",
       "\n",
       "        </script>\n",
       "        </html>"
      ]
     },
     "execution_count": 13,
     "metadata": {},
     "output_type": "execute_result"
    }
   ],
   "source": [
    "testDf.describe()"
   ]
  },
  {
   "cell_type": "code",
   "execution_count": 14,
   "id": "2e1aff81-eada-4680-a80c-da695c3aa53c",
   "metadata": {},
   "outputs": [
    {
     "name": "stdout",
     "output_type": "stream",
     "text": [
      "train:891 x 12, test:418 x 11, data:1309 x 12\n"
     ]
    }
   ],
   "source": [
    "println(\"train:${trainDf.size()}, test:${testDf.size()}, data:${dataDf.size()}\")"
   ]
  },
  {
   "cell_type": "code",
   "execution_count": 15,
   "id": "2267e7f4-89e8-440a-b836-ce61aa52bbc1",
   "metadata": {},
   "outputs": [
    {
     "data": {
      "text/html": [
       "        <html>\n",
       "        <head>\n",
       "            <style type=\"text/css\">\n",
       "                \n",
       "\n",
       "            </style>\n",
       "        </head>\n",
       "        <body>\n",
       "            <table class=\"dataframe\" id=\"df_-50331646\"></table>\n",
       "\n",
       "<p>DataFrame: rowsCount = 12, columnsCount = 12</p>\n",
       "        </body>\n",
       "        <script>\n",
       "            /*<!--*/\n",
       "call_DataFrame(function() { DataFrame.addTable({ cols: [{ name: \"<span title=\\\"name: String\\\">name</span>\", children: [], rightAlign: false, values: [\"PassengerId\",\"Survived\",\"Pclass\",\"Name\",\"Sex\",\"Age\",\"SibSp\",\"Parch\",\"Ticket\",\"Fare\",\"Cabin\",\"Embarked\"] }, \n",
       "{ name: \"<span title=\\\"type: Any\\\">type</span>\", children: [], rightAlign: false, values: [\"Int\",\"Int\",\"Int\",\"String\",\"String\",\"Double\",\"Int\",\"Int\",\"String\",\"Double\",\"String\",\"String\"] }, \n",
       "{ name: \"<span title=\\\"count: Int\\\">count</span>\", children: [], rightAlign: true, values: [\"<span class=\\\"formatted\\\" title=\\\"\\\"><span class=\\\"numbers\\\">1309</span></span>\",\"<span class=\\\"formatted\\\" title=\\\"\\\"><span class=\\\"numbers\\\">1309</span></span>\",\"<span class=\\\"formatted\\\" title=\\\"\\\"><span class=\\\"numbers\\\">1309</span></span>\",\"<span class=\\\"formatted\\\" title=\\\"\\\"><span class=\\\"numbers\\\">1309</span></span>\",\"<span class=\\\"formatted\\\" title=\\\"\\\"><span class=\\\"numbers\\\">1309</span></span>\",\"<span class=\\\"formatted\\\" title=\\\"\\\"><span class=\\\"numbers\\\">1309</span></span>\",\"<span class=\\\"formatted\\\" title=\\\"\\\"><span class=\\\"numbers\\\">1309</span></span>\",\"<span class=\\\"formatted\\\" title=\\\"\\\"><span class=\\\"numbers\\\">1309</span></span>\",\"<span class=\\\"formatted\\\" title=\\\"\\\"><span class=\\\"numbers\\\">1309</span></span>\",\"<span class=\\\"formatted\\\" title=\\\"\\\"><span class=\\\"numbers\\\">1309</span></span>\",\"<span class=\\\"formatted\\\" title=\\\"\\\"><span class=\\\"numbers\\\">1309</span></span>\",\"<span class=\\\"formatted\\\" title=\\\"\\\"><span class=\\\"numbers\\\">1309</span></span>\"] }, \n",
       "{ name: \"<span title=\\\"unique: Int\\\">unique</span>\", children: [], rightAlign: true, values: [\"<span class=\\\"formatted\\\" title=\\\"\\\"><span class=\\\"numbers\\\">1309</span></span>\",\"<span class=\\\"formatted\\\" title=\\\"\\\"><span class=\\\"numbers\\\">3</span></span>\",\"<span class=\\\"formatted\\\" title=\\\"\\\"><span class=\\\"numbers\\\">3</span></span>\",\"<span class=\\\"formatted\\\" title=\\\"\\\"><span class=\\\"numbers\\\">1307</span></span>\",\"<span class=\\\"formatted\\\" title=\\\"\\\"><span class=\\\"numbers\\\">2</span></span>\",\"<span class=\\\"formatted\\\" title=\\\"\\\"><span class=\\\"numbers\\\">99</span></span>\",\"<span class=\\\"formatted\\\" title=\\\"\\\"><span class=\\\"numbers\\\">7</span></span>\",\"<span class=\\\"formatted\\\" title=\\\"\\\"><span class=\\\"numbers\\\">8</span></span>\",\"<span class=\\\"formatted\\\" title=\\\"\\\"><span class=\\\"numbers\\\">929</span></span>\",\"<span class=\\\"formatted\\\" title=\\\"\\\"><span class=\\\"numbers\\\">282</span></span>\",\"<span class=\\\"formatted\\\" title=\\\"\\\"><span class=\\\"numbers\\\">187</span></span>\",\"<span class=\\\"formatted\\\" title=\\\"\\\"><span class=\\\"numbers\\\">4</span></span>\"] }, \n",
       "{ name: \"<span title=\\\"nulls: Int\\\">nulls</span>\", children: [], rightAlign: true, values: [\"<span class=\\\"formatted\\\" title=\\\"\\\"><span class=\\\"numbers\\\">0</span></span>\",\"<span class=\\\"formatted\\\" title=\\\"\\\"><span class=\\\"numbers\\\">418</span></span>\",\"<span class=\\\"formatted\\\" title=\\\"\\\"><span class=\\\"numbers\\\">0</span></span>\",\"<span class=\\\"formatted\\\" title=\\\"\\\"><span class=\\\"numbers\\\">0</span></span>\",\"<span class=\\\"formatted\\\" title=\\\"\\\"><span class=\\\"numbers\\\">0</span></span>\",\"<span class=\\\"formatted\\\" title=\\\"\\\"><span class=\\\"numbers\\\">263</span></span>\",\"<span class=\\\"formatted\\\" title=\\\"\\\"><span class=\\\"numbers\\\">0</span></span>\",\"<span class=\\\"formatted\\\" title=\\\"\\\"><span class=\\\"numbers\\\">0</span></span>\",\"<span class=\\\"formatted\\\" title=\\\"\\\"><span class=\\\"numbers\\\">0</span></span>\",\"<span class=\\\"formatted\\\" title=\\\"\\\"><span class=\\\"numbers\\\">1</span></span>\",\"<span class=\\\"formatted\\\" title=\\\"\\\"><span class=\\\"numbers\\\">1014</span></span>\",\"<span class=\\\"formatted\\\" title=\\\"\\\"><span class=\\\"numbers\\\">2</span></span>\"] }, \n",
       "{ name: \"<span title=\\\"top: java.io.Serializable\\\">top</span>\", children: [], rightAlign: false, values: [\"<span class=\\\"formatted\\\" title=\\\"\\\"><span class=\\\"numbers\\\">1</span></span>\",\"<span class=\\\"formatted\\\" title=\\\"\\\"><span class=\\\"numbers\\\">0</span></span>\",\"<span class=\\\"formatted\\\" title=\\\"\\\"><span class=\\\"numbers\\\">3</span></span>\",\"Connolly, Miss. Kate\",\"male\",\"<span class=\\\"formatted\\\" title=\\\"\\\"><span class=\\\"numbers\\\">24.0</span></span>\",\"<span class=\\\"formatted\\\" title=\\\"\\\"><span class=\\\"numbers\\\">0</span></span>\",\"<span class=\\\"formatted\\\" title=\\\"\\\"><span class=\\\"numbers\\\">0</span></span>\",\"CA. 2343\",\"<span class=\\\"formatted\\\" title=\\\"\\\"><span class=\\\"numbers\\\">8.1</span></span>\",\"C23 C25 C27\",\"S\"] }, \n",
       "{ name: \"<span title=\\\"freq: Int\\\">freq</span>\", children: [], rightAlign: true, values: [\"<span class=\\\"formatted\\\" title=\\\"\\\"><span class=\\\"numbers\\\">1</span></span>\",\"<span class=\\\"formatted\\\" title=\\\"\\\"><span class=\\\"numbers\\\">549</span></span>\",\"<span class=\\\"formatted\\\" title=\\\"\\\"><span class=\\\"numbers\\\">709</span></span>\",\"<span class=\\\"formatted\\\" title=\\\"\\\"><span class=\\\"numbers\\\">2</span></span>\",\"<span class=\\\"formatted\\\" title=\\\"\\\"><span class=\\\"numbers\\\">843</span></span>\",\"<span class=\\\"formatted\\\" title=\\\"\\\"><span class=\\\"numbers\\\">47</span></span>\",\"<span class=\\\"formatted\\\" title=\\\"\\\"><span class=\\\"numbers\\\">891</span></span>\",\"<span class=\\\"formatted\\\" title=\\\"\\\"><span class=\\\"numbers\\\">1002</span></span>\",\"<span class=\\\"formatted\\\" title=\\\"\\\"><span class=\\\"numbers\\\">11</span></span>\",\"<span class=\\\"formatted\\\" title=\\\"\\\"><span class=\\\"numbers\\\">60</span></span>\",\"<span class=\\\"formatted\\\" title=\\\"\\\"><span class=\\\"numbers\\\">6</span></span>\",\"<span class=\\\"formatted\\\" title=\\\"\\\"><span class=\\\"numbers\\\">914</span></span>\"] }, \n",
       "{ name: \"<span title=\\\"mean: Double?\\\">mean</span>\", children: [], rightAlign: true, values: [\"<span class=\\\"formatted\\\" title=\\\"\\\"><span class=\\\"numbers\\\">655.000000</span></span>\",\"<span class=\\\"formatted\\\" title=\\\"\\\"><span class=\\\"numbers\\\">0.383838</span></span>\",\"<span class=\\\"formatted\\\" title=\\\"\\\"><span class=\\\"numbers\\\">2.294882</span></span>\",\"<span class=\\\"formatted\\\" title=\\\"\\\"><span class=\\\"null\\\">null</span></span>\",\"<span class=\\\"formatted\\\" title=\\\"\\\"><span class=\\\"null\\\">null</span></span>\",\"<span class=\\\"formatted\\\" title=\\\"\\\"><span class=\\\"numbers\\\">29.881138</span></span>\",\"<span class=\\\"formatted\\\" title=\\\"\\\"><span class=\\\"numbers\\\">0.498854</span></span>\",\"<span class=\\\"formatted\\\" title=\\\"\\\"><span class=\\\"numbers\\\">0.385027</span></span>\",\"<span class=\\\"formatted\\\" title=\\\"\\\"><span class=\\\"null\\\">null</span></span>\",\"<span class=\\\"formatted\\\" title=\\\"\\\"><span class=\\\"numbers\\\">33.295479</span></span>\",\"<span class=\\\"formatted\\\" title=\\\"\\\"><span class=\\\"null\\\">null</span></span>\",\"<span class=\\\"formatted\\\" title=\\\"\\\"><span class=\\\"null\\\">null</span></span>\"] }, \n",
       "{ name: \"<span title=\\\"std: Double?\\\">std</span>\", children: [], rightAlign: true, values: [\"<span class=\\\"formatted\\\" title=\\\"\\\"><span class=\\\"numbers\\\">378.020061</span></span>\",\"<span class=\\\"formatted\\\" title=\\\"\\\"><span class=\\\"numbers\\\">0.486592</span></span>\",\"<span class=\\\"formatted\\\" title=\\\"\\\"><span class=\\\"numbers\\\">0.837836</span></span>\",\"<span class=\\\"formatted\\\" title=\\\"\\\"><span class=\\\"null\\\">null</span></span>\",\"<span class=\\\"formatted\\\" title=\\\"\\\"><span class=\\\"null\\\">null</span></span>\",\"<span class=\\\"formatted\\\" title=\\\"\\\"><span class=\\\"numbers\\\">14.413493</span></span>\",\"<span class=\\\"formatted\\\" title=\\\"\\\"><span class=\\\"numbers\\\">1.041658</span></span>\",\"<span class=\\\"formatted\\\" title=\\\"\\\"><span class=\\\"numbers\\\">0.865560</span></span>\",\"<span class=\\\"formatted\\\" title=\\\"\\\"><span class=\\\"null\\\">null</span></span>\",\"<span class=\\\"formatted\\\" title=\\\"\\\"><span class=\\\"numbers\\\">51.758668</span></span>\",\"<span class=\\\"formatted\\\" title=\\\"\\\"><span class=\\\"null\\\">null</span></span>\",\"<span class=\\\"formatted\\\" title=\\\"\\\"><span class=\\\"null\\\">null</span></span>\"] }, \n",
       "{ name: \"<span title=\\\"min: java.io.Serializable\\\">min</span>\", children: [], rightAlign: false, values: [\"<span class=\\\"formatted\\\" title=\\\"\\\"><span class=\\\"numbers\\\">1</span></span>\",\"<span class=\\\"formatted\\\" title=\\\"\\\"><span class=\\\"numbers\\\">0</span></span>\",\"<span class=\\\"formatted\\\" title=\\\"\\\"><span class=\\\"numbers\\\">1</span></span>\",\"Abbing, Mr. Anthony\",\"female\",\"<span class=\\\"formatted\\\" title=\\\"\\\"><span class=\\\"numbers\\\">0.2</span></span>\",\"<span class=\\\"formatted\\\" title=\\\"\\\"><span class=\\\"numbers\\\">0</span></span>\",\"<span class=\\\"formatted\\\" title=\\\"\\\"><span class=\\\"numbers\\\">0</span></span>\",\"110152\",\"<span class=\\\"formatted\\\" title=\\\"\\\"><span class=\\\"numbers\\\">0.0</span></span>\",\"A10\",\"C\"] }, \n",
       "{ name: \"<span title=\\\"median: java.io.Serializable\\\">median</span>\", children: [], rightAlign: false, values: [\"<span class=\\\"formatted\\\" title=\\\"\\\"><span class=\\\"numbers\\\">655</span></span>\",\"<span class=\\\"formatted\\\" title=\\\"\\\"><span class=\\\"numbers\\\">0</span></span>\",\"<span class=\\\"formatted\\\" title=\\\"\\\"><span class=\\\"numbers\\\">3</span></span>\",\"Kink, Mr. Vincenz\",\"male\",\"<span class=\\\"formatted\\\" title=\\\"\\\"><span class=\\\"numbers\\\">28.0</span></span>\",\"<span class=\\\"formatted\\\" title=\\\"\\\"><span class=\\\"numbers\\\">0</span></span>\",\"<span class=\\\"formatted\\\" title=\\\"\\\"><span class=\\\"numbers\\\">0</span></span>\",\"347082\",\"<span class=\\\"formatted\\\" title=\\\"\\\"><span class=\\\"numbers\\\">14.5</span></span>\",\"C62 C64\",\"S\"] }, \n",
       "{ name: \"<span title=\\\"max: java.io.Serializable\\\">max</span>\", children: [], rightAlign: false, values: [\"<span class=\\\"formatted\\\" title=\\\"\\\"><span class=\\\"numbers\\\">1309</span></span>\",\"<span class=\\\"formatted\\\" title=\\\"\\\"><span class=\\\"numbers\\\">1</span></span>\",\"<span class=\\\"formatted\\\" title=\\\"\\\"><span class=\\\"numbers\\\">3</span></span>\",\"van Melkebeke, Mr. Philemon\",\"male\",\"<span class=\\\"formatted\\\" title=\\\"\\\"><span class=\\\"numbers\\\">80.0</span></span>\",\"<span class=\\\"formatted\\\" title=\\\"\\\"><span class=\\\"numbers\\\">8</span></span>\",\"<span class=\\\"formatted\\\" title=\\\"\\\"><span class=\\\"numbers\\\">9</span></span>\",\"WE/P 5735\",\"<span class=\\\"formatted\\\" title=\\\"\\\"><span class=\\\"numbers\\\">512.3</span></span>\",\"T\",\"S\"] }, \n",
       "], id: -50331646, rootId: -50331646, totalRows: 12 } ) });\n",
       "/*-->*/\n",
       "\n",
       "call_DataFrame(function() { DataFrame.renderTable(-50331646) });\n",
       "\n",
       "\n",
       "        </script>\n",
       "        </html>"
      ]
     },
     "execution_count": 15,
     "metadata": {},
     "output_type": "execute_result"
    }
   ],
   "source": [
    "dataDf.describe()"
   ]
  },
  {
   "cell_type": "code",
   "execution_count": 16,
   "id": "ee28e3cc-10f0-4fc7-a5d1-fbb0875497ea",
   "metadata": {},
   "outputs": [
    {
     "data": {
      "text/plain": [
       "[PassengerId, Survived, Pclass, Name, Sex, Age, SibSp, Parch, Ticket, Fare, Cabin, Embarked]"
      ]
     },
     "execution_count": 16,
     "metadata": {},
     "output_type": "execute_result"
    }
   ],
   "source": [
    "dataDf.columnNames()"
   ]
  },
  {
   "cell_type": "code",
   "execution_count": 17,
   "id": "8c0d75d6-a459-4e17-b642-3a10ddffcf57",
   "metadata": {},
   "outputs": [
    {
     "data": {
      "text/html": [
       "        <html>\n",
       "        <head>\n",
       "            <style type=\"text/css\">\n",
       "                \n",
       "\n",
       "            </style>\n",
       "        </head>\n",
       "        <body>\n",
       "            <table class=\"dataframe\" id=\"df_-50331645\"></table>\n",
       "\n",
       "<p>... showing only top 20 of 1309 rows</p><p>DataColumn: name = \"Age\", type = Double?, size = 1309</p>\n",
       "        </body>\n",
       "        <script>\n",
       "            /*<!--*/\n",
       "call_DataFrame(function() { DataFrame.addTable({ cols: [{ name: \"<span title=\\\"Age: Double?\\\">Age</span>\", children: [], rightAlign: true, values: [\"<span class=\\\"formatted\\\" title=\\\"\\\"><span class=\\\"numbers\\\">22.00</span></span>\",\"<span class=\\\"formatted\\\" title=\\\"\\\"><span class=\\\"numbers\\\">38.00</span></span>\",\"<span class=\\\"formatted\\\" title=\\\"\\\"><span class=\\\"numbers\\\">26.00</span></span>\",\"<span class=\\\"formatted\\\" title=\\\"\\\"><span class=\\\"numbers\\\">35.00</span></span>\",\"<span class=\\\"formatted\\\" title=\\\"\\\"><span class=\\\"numbers\\\">35.00</span></span>\",\"<span class=\\\"formatted\\\" title=\\\"\\\"><span class=\\\"null\\\">null</span></span>\",\"<span class=\\\"formatted\\\" title=\\\"\\\"><span class=\\\"numbers\\\">54.00</span></span>\",\"<span class=\\\"formatted\\\" title=\\\"\\\"><span class=\\\"numbers\\\">2.00</span></span>\",\"<span class=\\\"formatted\\\" title=\\\"\\\"><span class=\\\"numbers\\\">27.00</span></span>\",\"<span class=\\\"formatted\\\" title=\\\"\\\"><span class=\\\"numbers\\\">14.00</span></span>\",\"<span class=\\\"formatted\\\" title=\\\"\\\"><span class=\\\"numbers\\\">4.00</span></span>\",\"<span class=\\\"formatted\\\" title=\\\"\\\"><span class=\\\"numbers\\\">58.00</span></span>\",\"<span class=\\\"formatted\\\" title=\\\"\\\"><span class=\\\"numbers\\\">20.00</span></span>\",\"<span class=\\\"formatted\\\" title=\\\"\\\"><span class=\\\"numbers\\\">39.00</span></span>\",\"<span class=\\\"formatted\\\" title=\\\"\\\"><span class=\\\"numbers\\\">14.00</span></span>\",\"<span class=\\\"formatted\\\" title=\\\"\\\"><span class=\\\"numbers\\\">55.00</span></span>\",\"<span class=\\\"formatted\\\" title=\\\"\\\"><span class=\\\"numbers\\\">2.00</span></span>\",\"<span class=\\\"formatted\\\" title=\\\"\\\"><span class=\\\"null\\\">null</span></span>\",\"<span class=\\\"formatted\\\" title=\\\"\\\"><span class=\\\"numbers\\\">31.00</span></span>\",\"<span class=\\\"formatted\\\" title=\\\"\\\"><span class=\\\"null\\\">null</span></span>\"] }, \n",
       "], id: -50331645, rootId: -50331645, totalRows: 1309 } ) });\n",
       "/*-->*/\n",
       "\n",
       "call_DataFrame(function() { DataFrame.renderTable(-50331645) });\n",
       "\n",
       "\n",
       "        </script>\n",
       "        </html>"
      ]
     },
     "execution_count": 17,
     "metadata": {},
     "output_type": "execute_result"
    }
   ],
   "source": [
    "dataDf.Age"
   ]
  },
  {
   "cell_type": "code",
   "execution_count": 18,
   "id": "d8f9de80-96b2-4acc-a067-5153d6b0197d",
   "metadata": {},
   "outputs": [
    {
     "name": "stdout",
     "output_type": "stream",
     "text": [
      "29.881137667304014,14.413493211271334\n"
     ]
    }
   ],
   "source": [
    "val ageAvg = dataDf.Age.mean()\n",
    "val ageStd = dataDf.Age.std()\n",
    "println(\"${ageAvg},${ageStd}\")"
   ]
  },
  {
   "cell_type": "code",
   "execution_count": 19,
   "id": "d04050b4-a0c6-4240-a457-5f7429e458a4",
   "metadata": {},
   "outputs": [],
   "source": [
    "import kotlin.random.Random\n",
    "\n",
    "// テキトーな乱数で補完する\n",
    "var filledDataDf = dataDf.fillNA{Age}.withValue((Random.nextDouble((ageAvg - ageStd), (ageAvg + ageStd))).toInt().toDouble())\n",
    "filledDataDf = filledDataDf.fillNA{Embarked}.withValue(\"S\")\n",
    "filledDataDf = filledDataDf.convert{Embarked}.with { e -> when(e) {\n",
    "    \"S\" -> 0\n",
    "    \"C\" -> 1\n",
    "    \"Q\" -> 2\n",
    "    else -> throw Exception()\n",
    "}}\n",
    "filledDataDf = filledDataDf.convert {Sex}.with { s -> when(s) {\n",
    "    \"male\" -> 0\n",
    "    \"female\" -> 1\n",
    "    else -> 2\n",
    "}}"
   ]
  },
  {
   "cell_type": "code",
   "execution_count": 20,
   "id": "3a912a49-87ff-43a3-ae31-281f41efc5e5",
   "metadata": {},
   "outputs": [],
   "source": [
    "filledDataDf = filledDataDf.remove {Name and PassengerId and SibSp and Parch and Ticket and Cabin}"
   ]
  },
  {
   "cell_type": "code",
   "execution_count": 21,
   "id": "5a228d4d-27ba-4dc9-a750-f83491b263d6",
   "metadata": {},
   "outputs": [
    {
     "data": {
      "text/html": [
       "        <html>\n",
       "        <head>\n",
       "            <style type=\"text/css\">\n",
       "                \n",
       "\n",
       "            </style>\n",
       "        </head>\n",
       "        <body>\n",
       "            <table class=\"dataframe\" id=\"df_-50331644\"></table>\n",
       "\n",
       "<p>DataFrame: rowsCount = 10, columnsCount = 6</p>\n",
       "        </body>\n",
       "        <script>\n",
       "            /*<!--*/\n",
       "call_DataFrame(function() { DataFrame.addTable({ cols: [{ name: \"<span title=\\\"Survived: Int\\\">Survived</span>\", children: [], rightAlign: true, values: [\"<span class=\\\"formatted\\\" title=\\\"\\\"><span class=\\\"numbers\\\">0</span></span>\",\"<span class=\\\"formatted\\\" title=\\\"\\\"><span class=\\\"numbers\\\">1</span></span>\",\"<span class=\\\"formatted\\\" title=\\\"\\\"><span class=\\\"numbers\\\">1</span></span>\",\"<span class=\\\"formatted\\\" title=\\\"\\\"><span class=\\\"numbers\\\">1</span></span>\",\"<span class=\\\"formatted\\\" title=\\\"\\\"><span class=\\\"numbers\\\">0</span></span>\",\"<span class=\\\"formatted\\\" title=\\\"\\\"><span class=\\\"numbers\\\">0</span></span>\",\"<span class=\\\"formatted\\\" title=\\\"\\\"><span class=\\\"numbers\\\">0</span></span>\",\"<span class=\\\"formatted\\\" title=\\\"\\\"><span class=\\\"numbers\\\">0</span></span>\",\"<span class=\\\"formatted\\\" title=\\\"\\\"><span class=\\\"numbers\\\">1</span></span>\",\"<span class=\\\"formatted\\\" title=\\\"\\\"><span class=\\\"numbers\\\">1</span></span>\"] }, \n",
       "{ name: \"<span title=\\\"Pclass: Int\\\">Pclass</span>\", children: [], rightAlign: true, values: [\"<span class=\\\"formatted\\\" title=\\\"\\\"><span class=\\\"numbers\\\">3</span></span>\",\"<span class=\\\"formatted\\\" title=\\\"\\\"><span class=\\\"numbers\\\">1</span></span>\",\"<span class=\\\"formatted\\\" title=\\\"\\\"><span class=\\\"numbers\\\">3</span></span>\",\"<span class=\\\"formatted\\\" title=\\\"\\\"><span class=\\\"numbers\\\">1</span></span>\",\"<span class=\\\"formatted\\\" title=\\\"\\\"><span class=\\\"numbers\\\">3</span></span>\",\"<span class=\\\"formatted\\\" title=\\\"\\\"><span class=\\\"numbers\\\">3</span></span>\",\"<span class=\\\"formatted\\\" title=\\\"\\\"><span class=\\\"numbers\\\">1</span></span>\",\"<span class=\\\"formatted\\\" title=\\\"\\\"><span class=\\\"numbers\\\">3</span></span>\",\"<span class=\\\"formatted\\\" title=\\\"\\\"><span class=\\\"numbers\\\">3</span></span>\",\"<span class=\\\"formatted\\\" title=\\\"\\\"><span class=\\\"numbers\\\">2</span></span>\"] }, \n",
       "{ name: \"<span title=\\\"Sex: Int\\\">Sex</span>\", children: [], rightAlign: true, values: [\"<span class=\\\"formatted\\\" title=\\\"\\\"><span class=\\\"numbers\\\">0</span></span>\",\"<span class=\\\"formatted\\\" title=\\\"\\\"><span class=\\\"numbers\\\">1</span></span>\",\"<span class=\\\"formatted\\\" title=\\\"\\\"><span class=\\\"numbers\\\">1</span></span>\",\"<span class=\\\"formatted\\\" title=\\\"\\\"><span class=\\\"numbers\\\">1</span></span>\",\"<span class=\\\"formatted\\\" title=\\\"\\\"><span class=\\\"numbers\\\">0</span></span>\",\"<span class=\\\"formatted\\\" title=\\\"\\\"><span class=\\\"numbers\\\">0</span></span>\",\"<span class=\\\"formatted\\\" title=\\\"\\\"><span class=\\\"numbers\\\">0</span></span>\",\"<span class=\\\"formatted\\\" title=\\\"\\\"><span class=\\\"numbers\\\">0</span></span>\",\"<span class=\\\"formatted\\\" title=\\\"\\\"><span class=\\\"numbers\\\">1</span></span>\",\"<span class=\\\"formatted\\\" title=\\\"\\\"><span class=\\\"numbers\\\">1</span></span>\"] }, \n",
       "{ name: \"<span title=\\\"Age: Double\\\">Age</span>\", children: [], rightAlign: true, values: [\"<span class=\\\"formatted\\\" title=\\\"\\\"><span class=\\\"numbers\\\">22.0</span></span>\",\"<span class=\\\"formatted\\\" title=\\\"\\\"><span class=\\\"numbers\\\">38.0</span></span>\",\"<span class=\\\"formatted\\\" title=\\\"\\\"><span class=\\\"numbers\\\">26.0</span></span>\",\"<span class=\\\"formatted\\\" title=\\\"\\\"><span class=\\\"numbers\\\">35.0</span></span>\",\"<span class=\\\"formatted\\\" title=\\\"\\\"><span class=\\\"numbers\\\">35.0</span></span>\",\"<span class=\\\"formatted\\\" title=\\\"\\\"><span class=\\\"numbers\\\">31.0</span></span>\",\"<span class=\\\"formatted\\\" title=\\\"\\\"><span class=\\\"numbers\\\">54.0</span></span>\",\"<span class=\\\"formatted\\\" title=\\\"\\\"><span class=\\\"numbers\\\">2.0</span></span>\",\"<span class=\\\"formatted\\\" title=\\\"\\\"><span class=\\\"numbers\\\">27.0</span></span>\",\"<span class=\\\"formatted\\\" title=\\\"\\\"><span class=\\\"numbers\\\">14.0</span></span>\"] }, \n",
       "{ name: \"<span title=\\\"Fare: Double\\\">Fare</span>\", children: [], rightAlign: true, values: [\"<span class=\\\"formatted\\\" title=\\\"\\\"><span class=\\\"numbers\\\">7.2500</span></span>\",\"<span class=\\\"formatted\\\" title=\\\"\\\"><span class=\\\"numbers\\\">71.2833</span></span>\",\"<span class=\\\"formatted\\\" title=\\\"\\\"><span class=\\\"numbers\\\">7.9250</span></span>\",\"<span class=\\\"formatted\\\" title=\\\"\\\"><span class=\\\"numbers\\\">53.1000</span></span>\",\"<span class=\\\"formatted\\\" title=\\\"\\\"><span class=\\\"numbers\\\">8.0500</span></span>\",\"<span class=\\\"formatted\\\" title=\\\"\\\"><span class=\\\"numbers\\\">8.4583</span></span>\",\"<span class=\\\"formatted\\\" title=\\\"\\\"><span class=\\\"numbers\\\">51.8625</span></span>\",\"<span class=\\\"formatted\\\" title=\\\"\\\"><span class=\\\"numbers\\\">21.0750</span></span>\",\"<span class=\\\"formatted\\\" title=\\\"\\\"><span class=\\\"numbers\\\">11.1333</span></span>\",\"<span class=\\\"formatted\\\" title=\\\"\\\"><span class=\\\"numbers\\\">30.0708</span></span>\"] }, \n",
       "{ name: \"<span title=\\\"Embarked: Int\\\">Embarked</span>\", children: [], rightAlign: true, values: [\"<span class=\\\"formatted\\\" title=\\\"\\\"><span class=\\\"numbers\\\">0</span></span>\",\"<span class=\\\"formatted\\\" title=\\\"\\\"><span class=\\\"numbers\\\">1</span></span>\",\"<span class=\\\"formatted\\\" title=\\\"\\\"><span class=\\\"numbers\\\">0</span></span>\",\"<span class=\\\"formatted\\\" title=\\\"\\\"><span class=\\\"numbers\\\">0</span></span>\",\"<span class=\\\"formatted\\\" title=\\\"\\\"><span class=\\\"numbers\\\">0</span></span>\",\"<span class=\\\"formatted\\\" title=\\\"\\\"><span class=\\\"numbers\\\">2</span></span>\",\"<span class=\\\"formatted\\\" title=\\\"\\\"><span class=\\\"numbers\\\">0</span></span>\",\"<span class=\\\"formatted\\\" title=\\\"\\\"><span class=\\\"numbers\\\">0</span></span>\",\"<span class=\\\"formatted\\\" title=\\\"\\\"><span class=\\\"numbers\\\">0</span></span>\",\"<span class=\\\"formatted\\\" title=\\\"\\\"><span class=\\\"numbers\\\">1</span></span>\"] }, \n",
       "], id: -50331644, rootId: -50331644, totalRows: 10 } ) });\n",
       "/*-->*/\n",
       "\n",
       "call_DataFrame(function() { DataFrame.renderTable(-50331644) });\n",
       "\n",
       "\n",
       "        </script>\n",
       "        </html>"
      ]
     },
     "execution_count": 21,
     "metadata": {},
     "output_type": "execute_result"
    }
   ],
   "source": [
    "filledDataDf.head(10)"
   ]
  },
  {
   "cell_type": "code",
   "execution_count": 22,
   "id": "fb1ac572-7eb8-4b4b-89ab-83fe4a3a547e",
   "metadata": {},
   "outputs": [
    {
     "data": {
      "text/html": [
       "   <div id=\"SqLq3O\"></div>\n",
       "   <script type=\"text/javascript\" data-lets-plot-script=\"library\">\n",
       "       if(!window.letsPlotCallQueue) {\n",
       "           window.letsPlotCallQueue = [];\n",
       "       }; \n",
       "       window.letsPlotCall = function(f) {\n",
       "           window.letsPlotCallQueue.push(f);\n",
       "       };\n",
       "       (function() {\n",
       "           var script = document.createElement(\"script\");\n",
       "           script.type = \"text/javascript\";\n",
       "           script.src = \"https://cdn.jsdelivr.net/gh/JetBrains/lets-plot@v2.5.1/js-package/distr/lets-plot.min.js\";\n",
       "           script.onload = function() {\n",
       "               window.letsPlotCall = function(f) {f();};\n",
       "               window.letsPlotCallQueue.forEach(function(f) {f();});\n",
       "               window.letsPlotCallQueue = [];\n",
       "               \n",
       "               \n",
       "           };\n",
       "           script.onerror = function(event) {\n",
       "               window.letsPlotCall = function(f) {};\n",
       "               window.letsPlotCallQueue = [];\n",
       "               var div = document.createElement(\"div\");\n",
       "               div.style.color = 'darkred';\n",
       "               div.textContent = 'Error loading Lets-Plot JS';\n",
       "               document.getElementById(\"SqLq3O\").appendChild(div);\n",
       "           };\n",
       "           var e = document.getElementById(\"SqLq3O\");\n",
       "           e.appendChild(script);\n",
       "       })();\n",
       "   </script>"
      ]
     },
     "metadata": {},
     "output_type": "display_data"
    }
   ],
   "source": [
    "%use lets-plot"
   ]
  },
  {
   "cell_type": "code",
   "execution_count": 23,
   "id": "645fe242-a2d6-4a07-becd-f195855ae658",
   "metadata": {},
   "outputs": [
    {
     "data": {
      "text/html": [
       "   <div id=\"BTtBQo\"></div>\n",
       "   <script type=\"text/javascript\" data-lets-plot-script=\"plot\">\n",
       "       (function() {\n",
       "           var plotSpec={\n",
       "\"mapping\":{\n",
       "\"x\":\"Age\"\n",
       "},\n",
       "\"data\":{\n",
       "},\n",
       "\"kind\":\"plot\",\n",
       "\"scales\":[],\n",
       "\"layers\":[{\n",
       "\"mapping\":{\n",
       "\"y\":\"..density..\"\n",
       "},\n",
       "\"stat\":\"bin\",\n",
       "\"color\":\"black\",\n",
       "\"position\":\"stack\",\n",
       "\"binwidth\":5.0,\n",
       "\"geom\":\"histogram\",\n",
       "\"fill\":\"white\",\n",
       "\"data\":{\n",
       "\"..density..\":[0.004435048711618349,0.010454043391671823,0.006652573067427523,0.010137254197984797,0.032946076143450596,0.036430757274007866,0.034530022111885716,0.02914460581920629,0.016473038071725298,0.013938724522229098,0.012988356941168022,0.006969362261114549,0.0050686270989923985,0.003801470324244299,0.0015839459684351246,3.167891936870249E-4,3.167891936870249E-4,0.0],\n",
       "\"Age\":[-0.5800000000000001,4.42,9.42,14.42,19.42,24.42,29.42,34.42,39.42,44.42,49.42,54.42,59.42,64.42,69.42,74.42,79.42,84.42]\n",
       "}\n",
       "},{\n",
       "\"mapping\":{\n",
       "},\n",
       "\"stat\":\"density\",\n",
       "\"alpha\":0.2,\n",
       "\"position\":\"identity\",\n",
       "\"geom\":\"density\",\n",
       "\"fill\":1.6737894E7,\n",
       "\"data\":{\n",
       "\"..density..\":[0.006167970766035674,0.006343520596510915,0.00651286046304188,0.006675386603011141,0.006830533166173515,0.006977776997597159,0.007116642003819737,0.007246703046403679,0.007367589313747216,0.007478987129529005,0.007580642164408852,0.007672361026433067,0.007754012214843148,0.007825526431503053,0.007886896253770618,0.007938175182181519,0.007979476085613927,0.008010969075505003,0.008032878849036439,0.008045481548856122,0.008049101193722277,0.008044105740335624,0.00803090284145983,0.008009935369149871,0.0079816767744493,0.007946626356240003,0.007905304512028175,0.00785824804231626,0.007806005577886771,0.007749133195843368,0.007688190285693813,0.007623735721199555,0.00755632438725953,0.0074865041038615025,0.007414812981246624,0.0073417772320399696,0.007267909457341032,0.007193707414808139,0.0071196532677513125,0.0070462133053404135,0.00697383811538827,0.006902963182922996,0.006834009880074644,0.006767386805788674,0.006703491427664369,0.006642711972903548,0.006585429511031253,0.006532020167780521,0.006482857407375296,0.006438314319421761,0.006398765846740335,0.0063645908917347605,0.006336174241258261,0.006313908253362703,0.006298194253727406,0.006289443594884382,0.006288078337479978,0.0062945315196302086,0.006309246987821245,0.006332678770636431,0.006365289984731742,0.00640755127078956,0.006459938765511877,0.006522931623944037,0.0065970091143992575,0.0066826473158740265,0.006780315454971189,0.006890471925887284,0.007013560042868754,0.007150003579620666,0.00730020215439227,0.007464526522808468,0.007643313842932797,0.00783686297850176,0.00804542990676174,0.0082692232968607,0.008508400323330334,0.008763062776846945,0.009033253531251825,0.009318953421761287,0.009620078584498983,0.00993647830198296,0.010267933393082442,0.010614155179317249,0.010974785052277027,0.011349394659499688,0.011737486718453951,0.012138496460420601,0.012551793698171882,0.012976685503492756,0.013412419472889757,0.013858187552390286,0.014313130385230905,0.014776342139591635,0.015246875767416597,0.015723748639880755,0.0162059485002734,0.01669243967107764,0.01718216944885161,0.01767407461825695,0.01816708801524859,0.01866014506907204,0.019152190253335446,0.019642183378021184,0.02012910565687359,0.020611965488097243,0.02108980389071366,0.02156169954413528,0.02202677338451135,0.02248419271802261,0.022933174818505195,0.02337298998439855,0.023802964037943262,0.024222480257649927,0.024630980743175115,0.025027967219750074,0.025413001297031158,0.02578570420457947,0.02614575603296068,0.02649289451558083,0.02682691339171691,0.027147660395677033,0.027455034920534582,0.02774898540739601,0.028029506512611307,0.028296636105739712,0.028550452150419934,0.028791069518627928,0.029018636786162906,0.02923333305369144,0.029435364833378216,0.02962496303616933,0.029802380089297798,0.029967887207705015,0.030121771836962408,0.03026433527907713,0.03039589050649563,0.030516760163737867,0.030627274750650375,0.03072777097632317,0.03081859026844391,0.030900077419330176,0.030972579347199207,0.03103644394945126,0.03109201902388414,0.031139651233844805,0.031179685094340912,0.031212461958005446,0.031238318982521846,0.031257588064496716,0.03127059472879701,0.03127765696681537,0.03127908402192926,0.03127517512536171,0.031266218190611796,0.03125248847939739,0.03123424725653449,0.03121174045515772,0.031185197377071636,0.0311548294556739,0.03112082911070052,0.031083368724955,0.03104259977312752,0.030998652131764864,0.03095163359746398,0.030901629637383562,0.03084870339237417,0.030792895948401094,0.030734226886672097,0.03067269511708755,0.0306082799934415,0.030540942702442262,0.030470627912188193,0.030397265659495774,0.030320773449529076,0.03024105853575375,0.03015802034345919,0.03007155299611812,0.029981547900790165,0.02988789634674701,0.02979049207053566,0.02968923374087378,0.029584027318081255,0.029474788245168606,0.029361443431183742,0.029243932991874208,0.029122211718039234,0.028996250247993634,0.02886603592719386,0.02873157334510497,0.02859288454663667,0.028450008922761033,0.028303002792058565,0.028151938691715065,0.02799690440277347,0.027838001740025976,0.02767534514171186,0.027509060098009942,0.027339281460121004,0.027166151673435574,0.02698981897885602,0.02681043562578428,0.026628156138622752,0.0264431356759322,0.02625552851772182,0.026065486711847635,0.02587315890527272,0.025678689380179878,0.02548221730876699,0.0252838762341938,0.025083793778747712,0.024882091574051034,0.02467888540220102,0.024474285531284265,0.02426839722387588,0.02406132139305737,0.02385315537723875,0.023643993802756808,0.023433929501855535,0.023223054453272263,0.023011460713232224,0.0227992413061471,0.02258649104666995,0.022373307267855583,0.022159790433928645,0.021946044620422184,0.02173217784907628,0.021518302269729842,0.02130453418635184,0.02109099392916704,0.02087780557942015,0.020665096557527227,0.020452997089091877,0.02024163956639321,0.020031157825420937,0.019821686360280432,0.019613359497781292,0.01940631055526526,0.019200671004228387,0.018996569661105054,0.018794131924761655,0.01859347907788752,0.018394727666657822,0.018197988969898767,0.018003368565617083,0.017810965999282634,0.017620874554806668,0.017433181125831435,0.01724796618185994,0.017065303821000063,0.016885261898734842,0.016707902220247546,0.016533280782443652,0.016361448050961434,0.016192449257145098,0.016026324700153253,0.015863110040065503,0.01570283656897647,0.015545531448575895,0.01539121790452836,0.015239915370017868,0.015091639573020937,0.014946402564141517,0.014804212684098336,0.014665074472125224,0.014528988518563489,0.014395951266730253,0.01426595477069508,0.014138986416853072,0.01401502861812492,0.013894058490236765,0.013776047519835471,0.013660961234200322,0.013548758882037904,0.01343939313433646,0.013332809813542715,0.01322894765845842,0.013127738131280266,0.013029105272175741,0.01293296560574022,0.012839228102663887,0.012747794198980153,0.012658557874407419,0.012571405790545219,0.012486217489064139,0.01240286564953733,0.012321216406195648,0.01224112972263901,0.012162459823382868,0.012085055681039241,0.012008761557897223,0.01193341760064915,0.011858860486975152,0.011784924122620026,0.011711440387446589,0.011638239928704736,0.01156515299939767,0.011492010339146923,0.01141864409434951,0.011344888773688071,0.011270582234210874,0.011195566692259334,0.011119689752514038,0.011042805447384946,0.010964775277926449,0.010885469246451266,0.01080476687008982,0.010722558163738091,0.010638744580194322,0.010553239894843273,0.010465971022038115,0.010376878750380748,0.010285918384432033,0.010193060281005849,0.010098290269116395,0.010001609943852451,0.009903036825927703,0.009802604380379913,0.009700361889829897,0.009596374179823477,0.009490721196019817,0.00938349743530654,0.009274811235259656,0.00916478392866999,0.009053548872069567,0.008941250359257804,0.00882804243269713,0.008714087607274153,0.008599555522267932,0.008484621538397727,0.008369465297516143,0.008254269262857685,0.008139217257739187,0.008024493020246454,0.007910278790743097,0.007796753948026262,0.007684093708662268,0.007572467902499043,0.007462039835618069,0.0073529652501009655,0.007245391387997675,0.007139456164845895,0.007035287456053815,0.0069330024974731995,0.00683270739959922,0.006734496773082819,0.006638453461662056,0.006544648377244194,0.006453140430719588,0.006363976551178066,0.006277191785535248,0.0061928094701606245,0.006110841465923388,0.0060312884481235765,0.005954140243034808,0.005879376203228173,0.005806965614445288,0.0057368681275134885,0.005669034209613806,0.005603405610091383,0.005539915836905118,0.0054784906407185285,0.0054190485045079615,0.005361501137382381,0.005305753972048574,0.005251706665999517,0.005199253607037311,0.00514828442415727,0.0050986845051107284,0.005050335522130884,0.005003115967350702,0.004956901699372347,0.004911566502271976,0.004866982658054566,0.004823021533224366,0.004779554179721733,0.004736451950012561,0.004693587125616995,0.004650833557844917,0.0046080673189804935,0.0045651673616395275,0.004522016183522728,0.0044785004943145666,0.0044345118810388395,0.004389947467783942,0.004344710565357842,0.0042987113061269825,0.004251867259036453,0.00420410401960118,0.0041553557694992424,0.004105565800288238,0.004054686995703302,0.004002682266980503,0.0039495249356824545,0.003895199058584843,0.003839699689315315,0.003783033071622823,0.0037252167593995263,0.0036662796588840824,0.0036062619888496154,0.003545215155027301,0.003483201535544018,0.0034202941747642,0.00335657638362713,0.0032921412453643345,0.0032270910263686326,0.0031615364929662637,0.003095596135911942,0.003029395305577429,0.002963065262026646,0.0028967421454508253,0.002830565873758013,0.002764678975451924,0.0026992253672706626,0.002634349087359662,0.0025701929959954196,0.0025068974570256037,0.002444599014215405,0.002383429077556252,0.0023235126352708136,0.0022649670077071623,0.002207900659529441,0.00215241208655932,0.002098588793284368,0.002046506376414861,0.0019962277289338297,0.0019478023778480846,0.0019012659673202923,0.0018566398970603023,0.0018139311238023511,0.0017731321314255115,0.0017342210728257938,0.001697162084064074,0.001661905768644044,0.0016283898470715588,0.0015965399641666815,0.0015662706439994803,0.001537486379856166,0.0015100828443680135,0.0014839482029028,0.0014589645115732051,0.0014350091797986561,0.0014119564762994671,0.001389679056728945,0.0013680494908759999,0.0013469417675038987,0.0013262327554264856,0.001305803600348408,0.001285541038288689,0.001265338608036548,0.0012450977470164204,0.0012247287571211273,0.001204151629457781,0.0011832967194865538,0.0011621052666616722,0.001140529755349816,0.0011185341164471104,0.0010960937716880772,0.0010731955250874736,0.001049837308233028,0.001026027788213727,0.0010017858487909681,9.771399569723604E-4,9.521274284118562E-4,9.267936060242387E-4,9.011909668636512E-4,8.753781726791507E-4,8.494190796359814E-4,8.233817224964012E-4,7.973372881109194E-4,7.713590924059722E-4,7.455215741971801E-4,7.198993181403665E-4,6.945661179883688E-4,6.695940900833084E-4,6.450528457138299E-4,6.210087296351572E-4,5.97524130714669E-4,5.74656869352337E-4,5.52459665055166E-4,5.309796863356953E-4,5.102581839708801E-4,4.90330207609446E-4,4.712244047597562E-4,4.529629003299195E-4,4.3556125412743123E-4,4.190284930552075E-4,4.0336721416013387E-4,3.885737541938331E-4,3.7463842092656037E-4,3.615457811069979E-4,3.492749996763571E-4,3.3780022461791294E-4,3.270910116470561E-4,3.1711278281737124E-4,3.078273130313033E-4,2.991932383971343E-4,2.9116658036600323E-4,2.8370127961323575E-4,2.7674973369802406E-4,2.702633326459996E-4,2.6419298675228335E-4,2.584896411002803E-4,2.531047715357869E-4,2.47990857128412E-4,2.4310182449373795E-4,2.3839345974005597E-4,2.3382378424168713E-4,2.2935339092441394E-4,2.2494573827366464E-4,2.2056739983762117E-4,2.1618826758889974E-4],\n",
       "\"Age\":[0.42,0.5757338551859099,0.7314677103718199,0.8872015655577299,1.0429354207436399,1.1986692759295499,1.3544031311154598,1.5101369863013698,1.6658708414872798,1.8216046966731898,1.9773385518590998,2.13307240704501,2.2888062622309198,2.44454011741683,2.6002739726027397,2.7560078277886495,2.9117416829745597,3.06747553816047,3.2232093933463797,3.3789432485322894,3.5346771037181997,3.69041095890411,3.8461448140900196,4.001878669275929,4.15761252446184,4.31334637964775,4.46908023483366,4.624814090019569,4.7805479452054795,4.93628180039139,5.092015655577299,5.247749510763209,5.4034833659491195,5.55921722113503,5.71495107632094,5.870684931506849,6.026418786692759,6.18215264187867,6.337886497064579,6.493620352250489,6.649354207436399,6.80508806262231,6.96082191780822,7.116555772994129,7.272289628180039,7.4280234833659495,7.583757338551859,7.739491193737769,7.895225048923679,8.05095890410959,8.2066927592955,8.362426614481409,8.51816046966732,8.67389432485323,8.829628180039139,8.98536203522505,9.14109589041096,9.296829745596868,9.45256360078278,9.608297455968689,9.764031311154598,9.91976516634051,10.075499021526419,10.23123287671233,10.386966731898239,10.542700587084148,10.69843444227006,10.854168297455969,11.00990215264188,11.16563600782779,11.321369863013699,11.47710371819961,11.632837573385519,11.788571428571428,11.94430528375734,12.100039138943249,12.255772994129158,12.411506849315069,12.567240704500978,12.72297455968689,12.878708414872799,13.034442270058708,13.19017612524462,13.345909980430529,13.50164383561644,13.657377690802349,13.813111545988258,13.96884540117417,14.124579256360079,14.280313111545988,14.4360469667319,14.591780821917808,14.747514677103718,14.903248532289629,15.058982387475538,15.21471624266145,15.370450097847359,15.526183953033268,15.681917808219179,15.837651663405088,15.993385518591,16.14911937377691,16.30485322896282,16.46058708414873,16.616320939334642,16.77205479452055,16.92778864970646,17.083522504892372,17.23925636007828,17.39499021526419,17.5507240704501,17.70645792563601,17.86219178082192,18.01792563600783,18.17365949119374,18.32939334637965,18.48512720156556,18.64086105675147,18.79659491193738,18.95232876712329,19.1080626223092,19.26379647749511,19.41953033268102,19.57526418786693,19.73099804305284,19.88673189823875,20.04246575342466,20.19819960861057,20.35393346379648,20.50966731898239,20.6654011741683,20.82113502935421,20.97686888454012,21.13260273972603,21.28833659491194,21.44407045009785,21.59980430528376,21.75553816046967,21.91127201565558,22.06700587084149,22.2227397260274,22.37847358121331,22.53420743639922,22.68994129158513,22.84567514677104,23.00140900195695,23.15714285714286,23.31287671232877,23.46861056751468,23.624344422700588,23.7800782778865,23.93581213307241,24.091545988258318,24.24727984344423,24.40301369863014,24.55874755381605,24.71448140900196,24.87021526418787,25.02594911937378,25.18168297455969,25.3374168297456,25.49315068493151,25.648884540117418,25.80461839530333,25.96035225048924,26.116086105675148,26.27181996086106,26.42755381604697,26.58328767123288,26.73902152641879,26.8947553816047,27.05048923679061,27.20622309197652,27.36195694716243,27.51769080234834,27.673424657534248,27.82915851272016,27.98489236790607,28.140626223091978,28.29636007827789,28.4520939334638,28.607827788649708,28.76356164383562,28.91929549902153,29.075029354207437,29.23076320939335,29.38649706457926,29.54223091976517,29.69796477495108,29.85369863013699,30.0094324853229,30.165166340508808,30.32090019569472,30.47663405088063,30.632367906066538,30.78810176125245,30.94383561643836,31.099569471624267,31.25530332681018,31.41103718199609,31.566771037182,31.72250489236791,31.87823874755382,32.03397260273973,32.18970645792564,32.345440313111546,32.50117416829746,32.65690802348337,32.81264187866928,32.96837573385519,33.1241095890411,33.27984344422701,33.43557729941292,33.59131115459883,33.74704500978474,33.90277886497065,34.05851272015656,34.21424657534247,34.36998043052838,34.52571428571429,34.6814481409002,34.83718199608611,34.992915851272016,35.14864970645793,35.30438356164384,35.460117416829746,35.61585127201566,35.77158512720157,35.927318982387476,36.08305283757339,36.2387866927593,36.394520547945206,36.55025440313112,36.70598825831703,36.861722113502935,37.01745596868885,37.17318982387476,37.328923679060665,37.48465753424658,37.64039138943249,37.796125244618395,37.95185909980431,38.10759295499022,38.26332681017613,38.41906066536204,38.57479452054795,38.73052837573386,38.88626223091977,39.04199608610568,39.19772994129159,39.3534637964775,39.509197651663406,39.66493150684932,39.82066536203523,39.976399217221136,40.13213307240705,40.28786692759296,40.443600782778866,40.59933463796478,40.75506849315069,40.910802348336595,41.06653620352251,41.22227005870842,41.378003913894325,41.53373776908024,41.68947162426615,41.845205479452055,42.00093933463797,42.15667318982388,42.312407045009785,42.4681409001957,42.62387475538161,42.77960861056752,42.93534246575343,43.09107632093934,43.24681017612525,43.40254403131116,43.558277886497066,43.71401174168298,43.86974559686889,44.025479452054796,44.18121330724071,44.33694716242662,44.492681017612526,44.64841487279844,44.80414872798435,44.959882583170256,45.11561643835617,45.27135029354208,45.427084148727985,45.5828180039139,45.73855185909981,45.894285714285715,46.05001956947163,46.20575342465754,46.361487279843445,46.51722113502936,46.67295499021527,46.828688845401174,46.98442270058709,47.140156555773,47.295890410958904,47.45162426614482,47.607358121330726,47.763091976516634,47.91882583170255,48.074559686888456,48.23029354207437,48.38602739726028,48.541761252446186,48.6974951076321,48.85322896281801,49.008962818003916,49.16469667318983,49.32043052837574,49.476164383561645,49.63189823874756,49.78763209393347,49.943365949119375,50.09909980430529,50.2548336594912,50.410567514677105,50.56630136986302,50.72203522504893,50.877769080234835,51.03350293542075,51.18923679060666,51.344970645792564,51.50070450097848,51.65643835616439,51.812172211350294,51.96790606653621,52.123639921722116,52.279373776908024,52.43510763209394,52.590841487279846,52.74657534246576,52.90230919765167,53.058043052837576,53.21377690802349,53.3695107632094,53.525244618395305,53.68097847358122,53.83671232876713,53.992446183953035,54.14818003913895,54.30391389432486,54.459647749510765,54.61538160469668,54.77111545988259,54.926849315068495,55.08258317025441,55.23831702544032,55.394050880626224,55.54978473581214,55.70551859099805,55.861252446183954,56.01698630136987,56.172720156555776,56.328454011741684,56.4841878669276,56.639921722113506,56.795655577299414,56.95138943248533,57.107123287671236,57.26285714285714,57.41859099804306,57.574324853228966,57.73005870841487,57.88579256360079,58.041526418786695,58.19726027397261,58.35299412915852,58.508727984344425,58.66446183953034,58.82019569471625,58.975929549902155,59.13166340508807,59.28739726027398,59.443131115459884,59.5988649706458,59.75459882583171,59.910332681017614,60.06606653620353,60.221800391389436,60.377534246575344,60.53326810176126,60.689001956947166,60.844735812133074,61.00046966731899,61.156203522504896,61.3119373776908,61.46767123287672,61.623405088062626,61.77913894324853,61.93487279843445,62.090606653620355,62.24634050880626,62.40207436399218,62.557808219178085,62.713542074364,62.86927592954991,63.025009784735815,63.18074363992173,63.33647749510764,63.492211350293545,63.64794520547946,63.80367906066537,63.959412915851274,64.11514677103719,64.27088062622309,64.426614481409,64.58234833659492,64.73808219178082,64.89381604696673,65.04954990215265,65.20528375733856,65.36101761252446,65.51675146771038,65.67248532289629,65.8282191780822,65.98395303326811,66.13968688845402,66.29542074363992,66.45115459882584,66.60688845401175,66.76262230919765,66.91835616438357,67.07409001956948,67.22982387475538,67.3855577299413,67.54129158512721,67.69702544031311,67.85275929549903,68.00849315068494,68.16422700587084,68.31996086105676,68.47569471624267,68.63142857142857,68.78716242661449,68.9428962818004,69.0986301369863,69.25436399217222,69.41009784735813,69.56583170254403,69.72156555772995,69.87729941291586,70.03303326810176,70.18876712328768,70.34450097847359,70.50023483365949,70.6559686888454,70.81170254403132,70.96743639921722,71.12317025440314,71.27890410958905,71.43463796477495,71.59037181996086,71.74610567514678,71.90183953033268,72.0575733855186,72.21330724070451,72.36904109589041,72.52477495107632,72.68050880626224,72.83624266144814,72.99197651663405,73.14771037181997,73.30344422700587,73.45917808219178,73.6149119373777,73.7706457925636,73.92637964774951,74.08211350293543,74.23784735812133,74.39358121330724,74.54931506849316,74.70504892367906,74.86078277886497,75.01651663405089,75.17225048923679,75.3279843444227,75.48371819960862,75.63945205479453,75.79518590998043,75.95091976516635,76.10665362035226,76.26238747553816,76.41812133072408,76.57385518590999,76.72958904109589,76.8853228962818,77.04105675146772,77.19679060665362,77.35252446183954,77.50825831702545,77.66399217221135,77.81972602739727,77.97545988258318,78.13119373776908,78.286927592955,78.44266144814091,78.59839530332681,78.75412915851273,78.90986301369864,79.06559686888454,79.22133072407046,79.37706457925637,79.53279843444227,79.68853228962818,79.8442661448141,80.0]\n",
       "}\n",
       "}]\n",
       "};\n",
       "           var plotContainer = document.getElementById(\"BTtBQo\");\n",
       "           window.letsPlotCall(function() {{\n",
       "               LetsPlot.buildPlotFromProcessedSpecs(plotSpec, -1, -1, plotContainer);\n",
       "           }});\n",
       "       })();    \n",
       "   </script>"
      ]
     },
     "execution_count": 23,
     "metadata": {},
     "output_type": "execute_result"
    }
   ],
   "source": [
    "val p = letsPlot(df.toMap()){x=\"Age\"}\n",
    "p + geomHistogram(binWidth=5, color=\"black\", fill=\"white\") { y = \"..density..\" } +\n",
    "    geomDensity(alpha=0.2, fill=0xFF6666)"
   ]
  },
  {
   "cell_type": "code",
   "execution_count": 24,
   "id": "c7eae904-1d59-46be-bca7-82640066a876",
   "metadata": {},
   "outputs": [
    {
     "data": {
      "text/html": [
       "   <div id=\"jrlT8g\"></div>\n",
       "   <script type=\"text/javascript\" data-lets-plot-script=\"plot\">\n",
       "       (function() {\n",
       "           var plotSpec={\n",
       "\"mapping\":{\n",
       "\"x\":\"Sex\",\n",
       "\"y\":\"Age\"\n",
       "},\n",
       "\"data\":{\n",
       "},\n",
       "\"kind\":\"plot\",\n",
       "\"scales\":[],\n",
       "\"layers\":[{\n",
       "\"mapping\":{\n",
       "\"fill\":\"Sex\"\n",
       "},\n",
       "\"stat\":\"boxplot\",\n",
       "\"outlier_color\":\"red\",\n",
       "\"outlier_size\":5.0,\n",
       "\"outlier_shape\":8.0,\n",
       "\"position\":\"dodge\",\n",
       "\"geom\":\"boxplot\",\n",
       "\"data\":{\n",
       "\"..middle..\":[NaN,NaN,NaN,NaN,NaN,NaN,NaN,29.0,27.0],\n",
       "\"..upper..\":[NaN,NaN,NaN,NaN,NaN,NaN,NaN,39.0,37.0],\n",
       "\"..ymax..\":[NaN,NaN,NaN,NaN,NaN,NaN,NaN,66.0,63.0],\n",
       "\"Sex\":[\"male\",\"male\",\"male\",\"male\",\"male\",\"male\",\"male\",\"male\",\"female\"],\n",
       "\"..lower..\":[NaN,NaN,NaN,NaN,NaN,NaN,NaN,21.0,18.0],\n",
       "\"..ymin..\":[NaN,NaN,NaN,NaN,NaN,NaN,NaN,0.42,0.75],\n",
       "\"Age\":[71.0,70.5,71.0,80.0,70.0,70.0,74.0,NaN,NaN]\n",
       "}\n",
       "}]\n",
       "};\n",
       "           var plotContainer = document.getElementById(\"jrlT8g\");\n",
       "           window.letsPlotCall(function() {{\n",
       "               LetsPlot.buildPlotFromProcessedSpecs(plotSpec, -1, -1, plotContainer);\n",
       "           }});\n",
       "       })();    \n",
       "   </script>"
      ]
     },
     "execution_count": 24,
     "metadata": {},
     "output_type": "execute_result"
    }
   ],
   "source": [
    "val p = letsPlot(df.toMap()){x=\"Sex\"; y=\"Age\"}\n",
    "p + geomBoxplot(outlierColor=\"red\", outlierShape=8, outlierSize=5){fill=\"Sex\"}"
   ]
  },
  {
   "cell_type": "code",
   "execution_count": null,
   "id": "2fa368cf-3852-4125-9587-1879fcc1c830",
   "metadata": {},
   "outputs": [],
   "source": []
  },
  {
   "cell_type": "code",
   "execution_count": 25,
   "id": "2b588bc0-5e5b-4cdf-9557-bf1433c63d30",
   "metadata": {},
   "outputs": [],
   "source": [
    "val batchSize = 891\n",
    "var trainDf = filledDataDf.head(batchSize)\n",
    "var testDf = filledDataDf.tail(filledDataDf.rowsCount() - batchSize)"
   ]
  },
  {
   "cell_type": "code",
   "execution_count": 26,
   "id": "a41e3b92-2f2d-4882-b33b-32011db6b53c",
   "metadata": {},
   "outputs": [],
   "source": [
    "testDf = testDf.remove { Survived }"
   ]
  },
  {
   "cell_type": "code",
   "execution_count": 27,
   "id": "129de245-92b2-4474-97e3-a1aa2e7d771c",
   "metadata": {},
   "outputs": [],
   "source": [
    "trainDf.writeCSV(\"./data/shaped_train.csv\")\n",
    "testDf.writeCSV(\"./data/shaped_test.csv\")"
   ]
  },
  {
   "cell_type": "code",
   "execution_count": null,
   "id": "1b38a144-8104-4589-9593-3b61e5e9122b",
   "metadata": {},
   "outputs": [],
   "source": []
  },
  {
   "cell_type": "code",
   "execution_count": null,
   "id": "d3c0356f-0fb6-4399-90dd-36dd12ef0723",
   "metadata": {},
   "outputs": [],
   "source": []
  },
  {
   "cell_type": "code",
   "execution_count": 28,
   "id": "5744210f-2553-4aad-bd40-9a7ae7d07ad0",
   "metadata": {},
   "outputs": [],
   "source": [
    "@file:DependsOn(\"org.jetbrains.kotlinx:kotlin-deeplearning-api:0.4.0\")"
   ]
  },
  {
   "cell_type": "code",
   "execution_count": 29,
   "id": "b7dd36fb-f4d6-4a5f-975e-369c5b8c26e1",
   "metadata": {},
   "outputs": [],
   "source": [
    "import org.jetbrains.kotlinx.dataframe.DataFrame\n",
    "import org.jetbrains.kotlinx.dataframe.api.remove\n",
    "import org.jetbrains.kotlinx.dataframe.api.rows\n",
    "import org.jetbrains.kotlinx.dl.api.core.Sequential\n",
    "import org.jetbrains.kotlinx.dl.api.core.WritingMode\n",
    "import org.jetbrains.kotlinx.dl.api.core.layer.core.Input\n",
    "import org.jetbrains.kotlinx.dl.api.core.layer.core.Dense\n",
    "import org.jetbrains.kotlinx.dl.api.core.loss.Losses\n",
    "import org.jetbrains.kotlinx.dl.api.core.metric.Metrics\n",
    "import org.jetbrains.kotlinx.dl.api.core.optimizer.Adam\n",
    "import org.jetbrains.kotlinx.dl.api.core.summary.printSummary\n",
    "import org.jetbrains.kotlinx.dl.dataset.OnHeapDataset\n",
    "import org.jetbrains.kotlinx.dl.dataset.fashionMnist\n",
    "import java.io.File"
   ]
  },
  {
   "cell_type": "code",
   "execution_count": 30,
   "id": "d12a9b8d-9fb1-488f-9c67-65f5c53c0ba5",
   "metadata": {},
   "outputs": [],
   "source": [
    "fun <T> DataFrame<T>.toOnHeapDataset(labelColumnName: String): OnHeapDataset {\n",
    "    return OnHeapDataset.create(\n",
    "        dataframe = this,\n",
    "        yColumn = labelColumnName\n",
    "    )\n",
    "}\n",
    "\n",
    "fun OnHeapDataset.Companion.create(\n",
    "    dataframe: DataFrame<Any?>,\n",
    "    yColumn: String\n",
    "): OnHeapDataset {\n",
    "    fun extractX(): Array<FloatArray> =\n",
    "        dataframe.remove(yColumn).rows()\n",
    "            .map { (it.values() as List<Float>).toFloatArray() }.toTypedArray()\n",
    "\n",
    "    fun extractY(): FloatArray =\n",
    "        dataframe.get { yColumn<Float>() }.toList().toFloatArray()\n",
    "\n",
    "    return create(\n",
    "        ::extractX,\n",
    "        ::extractY\n",
    "    )\n",
    "}"
   ]
  },
  {
   "cell_type": "code",
   "execution_count": 31,
   "id": "1a1faada-ddf6-4569-a9b9-694335b8767e",
   "metadata": {},
   "outputs": [],
   "source": [
    "val (train, test) = trainDf.toOnHeapDataset(\"Survived\").split(0.9)"
   ]
  },
  {
   "cell_type": "code",
   "execution_count": 36,
   "id": "5c836b08-dc14-46a2-afc5-c28c3ad61fe3",
   "metadata": {},
   "outputs": [
    {
     "name": "stdout",
     "output_type": "stream",
     "text": [
      "==============================================================================\n",
      "Model type: Sequential\n",
      "______________________________________________________________________________\n",
      "Layer (type)                           Output Shape              Param #      \n",
      "==============================================================================\n",
      "input_1(Input)                         [None, 5]                 0            \n",
      "______________________________________________________________________________\n",
      "dense_2(Dense)                         [None, 2]                 12           \n",
      "______________________________________________________________________________\n",
      "==============================================================================\n",
      "Total trainable params: 12\n",
      "Total frozen params: 0\n",
      "Total params: 12\n",
      "==============================================================================\n",
      "Accuracy: 0.644444465637207\n"
     ]
    }
   ],
   "source": [
    "val model = Sequential.of(\n",
    "    Input(5),\n",
    "    Dense(2)\n",
    ")\n",
    "model.use {\n",
    "    it.compile(\n",
    "        optimizer = Adam(),\n",
    "        loss = Losses.BINARY_CROSSENTROPY,\n",
    "        metric = Metrics.ACCURACY\n",
    "    )\n",
    "    it.printSummary()\n",
    "    it.fit(\n",
    "        dataset = train,\n",
    "        epochs = 10,\n",
    "        batchSize = batchSize\n",
    "    )\n",
    "    val accuracy = it.evaluate(dataset = test, batchSize = test.xSize()).metrics[Metrics.ACCURACY]\n",
    "    println(\"Accuracy: $accuracy\")\n",
    "    it.save(File(\"model/my_model\"), writingMode = WritingMode.OVERRIDE)\n",
    "}"
   ]
  },
  {
   "cell_type": "code",
   "execution_count": null,
   "id": "523b4c80-27b6-4982-b3d4-3d6f09c2443a",
   "metadata": {},
   "outputs": [],
   "source": []
  },
  {
   "cell_type": "code",
   "execution_count": null,
   "id": "acbe5235-ff91-4d91-a52b-c59130757384",
   "metadata": {},
   "outputs": [],
   "source": []
  },
  {
   "cell_type": "code",
   "execution_count": 33,
   "id": "ecb2a46c-4681-4960-8ebe-957053562411",
   "metadata": {},
   "outputs": [],
   "source": [
    "import org.jetbrains.kotlinx.dl.api.core.Sequential\n",
    "import org.jetbrains.kotlinx.dl.api.core.activation.Activations\n",
    "import org.jetbrains.kotlinx.dl.api.core.initializer.HeNormal\n",
    "import org.jetbrains.kotlinx.dl.api.core.layer.core.Dense\n",
    "import org.jetbrains.kotlinx.dl.api.core.layer.core.Input\n",
    "import org.jetbrains.kotlinx.dl.api.core.loss.Losses\n",
    "import org.jetbrains.kotlinx.dl.api.core.metric.Metrics\n",
    "import org.jetbrains.kotlinx.dl.api.core.optimizer.Adam\n",
    "import org.jetbrains.kotlinx.dl.dataset.fashionMnist"
   ]
  },
  {
   "cell_type": "code",
   "execution_count": 38,
   "id": "f0ea9cf2-0628-4d0a-bb5b-49866afa09cf",
   "metadata": {},
   "outputs": [
    {
     "name": "stdout",
     "output_type": "stream",
     "text": [
      "==============================================================================\n",
      "Model type: Sequential\n",
      "______________________________________________________________________________\n",
      "Layer (type)                           Output Shape              Param #      \n",
      "==============================================================================\n",
      "input_1(Input)                         [None, 5]                 0            \n",
      "______________________________________________________________________________\n",
      "dense_2(Dense)                         [None, 9]                 54           \n",
      "______________________________________________________________________________\n",
      "dense_3(Dense)                         [None, 9]                 90           \n",
      "______________________________________________________________________________\n",
      "dense_4(Dense)                         [None, 2]                 20           \n",
      "______________________________________________________________________________\n",
      "==============================================================================\n",
      "Total trainable params: 164\n",
      "Total frozen params: 0\n",
      "Total params: 164\n",
      "==============================================================================\n",
      "Accuracy: 0.8111110925674438\n"
     ]
    }
   ],
   "source": [
    "val model = Sequential.of(\n",
    "    Input(5),\n",
    "    Dense(\n",
    "        outputSize = 9,\n",
    "        activation = Activations.Relu,\n",
    "        kernelInitializer = HeNormal(),\n",
    "        biasInitializer = HeNormal()\n",
    "    ),\n",
    "    Dense(\n",
    "        outputSize = 9,\n",
    "        activation = Activations.Relu,\n",
    "        kernelInitializer = HeNormal(),\n",
    "        biasInitializer = HeNormal()\n",
    "    ),\n",
    "    Dense(\n",
    "        outputSize = 2,\n",
    "        activation = Activations.Sigmoid,\n",
    "        kernelInitializer = HeNormal(),\n",
    "        biasInitializer = HeNormal()\n",
    "    )\n",
    ")\n",
    "model.use {\n",
    "    it.compile(\n",
    "        optimizer = Adam(),\n",
    "        loss = Losses.BINARY_CROSSENTROPY,\n",
    "        metric = Metrics.ACCURACY\n",
    "    )\n",
    "    it.printSummary()\n",
    "    it.fit(\n",
    "        dataset = train,\n",
    "        epochs = 200,\n",
    "        batchSize = 50\n",
    "    )\n",
    "    val accuracy = it.evaluate(dataset = test, batchSize = test.xSize()).metrics[Metrics.ACCURACY]\n",
    "    println(\"Accuracy: $accuracy\")\n",
    "    it.save(File(\"model/my_model\"), writingMode = WritingMode.OVERRIDE)\n",
    "}\n"
   ]
  },
  {
   "cell_type": "code",
   "execution_count": null,
   "id": "a51c119d-2b51-41d8-83f0-51f00120f446",
   "metadata": {},
   "outputs": [],
   "source": []
  }
 ],
 "metadata": {
  "kernelspec": {
   "display_name": "Kotlin",
   "language": "kotlin",
   "name": "kotlin"
  },
  "language_info": {
   "codemirror_mode": "text/x-kotlin",
   "file_extension": ".kt",
   "mimetype": "text/x-kotlin",
   "name": "kotlin",
   "nbconvert_exporter": "",
   "pygments_lexer": "kotlin",
   "version": "1.8.0-RC"
  }
 },
 "nbformat": 4,
 "nbformat_minor": 5
}
